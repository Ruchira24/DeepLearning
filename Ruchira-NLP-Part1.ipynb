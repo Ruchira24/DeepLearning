{
 "cells": [
  {
   "cell_type": "code",
   "execution_count": 1,
   "metadata": {
    "colab": {
     "base_uri": "https://localhost:8080/"
    },
    "executionInfo": {
     "elapsed": 21915,
     "status": "ok",
     "timestamp": 1625406074499,
     "user": {
      "displayName": "Ruchira S Dwivedi",
      "photoUrl": "",
      "userId": "08004570390284030604"
     },
     "user_tz": -330
    },
    "id": "lMRpmgHvw1SL",
    "outputId": "7db93e3c-0ae7-432f-86fd-5375fe6e831c"
   },
   "outputs": [
    {
     "name": "stdout",
     "output_type": "stream",
     "text": [
      "Mounted at /content/drive\n"
     ]
    }
   ],
   "source": [
    "from google.colab import drive\n",
    "drive.mount('/content/drive')"
   ]
  },
  {
   "cell_type": "code",
   "execution_count": 2,
   "metadata": {
    "executionInfo": {
     "elapsed": 403,
     "status": "ok",
     "timestamp": 1625406078060,
     "user": {
      "displayName": "Ruchira S Dwivedi",
      "photoUrl": "",
      "userId": "08004570390284030604"
     },
     "user_tz": -330
    },
    "id": "b1Kd43F_x1dZ"
   },
   "outputs": [],
   "source": [
    "import numpy as np\n",
    "import pandas as pd\n",
    "import matplotlib.pyplot as plt\n",
    "import re\n",
    "\n",
    "import warnings\n",
    "warnings.filterwarnings('ignore')"
   ]
  },
  {
   "cell_type": "code",
   "execution_count": 3,
   "metadata": {
    "colab": {
     "base_uri": "https://localhost:8080/"
    },
    "executionInfo": {
     "elapsed": 2265,
     "status": "ok",
     "timestamp": 1625406081352,
     "user": {
      "displayName": "Ruchira S Dwivedi",
      "photoUrl": "",
      "userId": "08004570390284030604"
     },
     "user_tz": -330
    },
    "id": "n-g8OnZtxOgW",
    "outputId": "f5bd4fa6-7b0f-4318-ec7d-d9aeb5e85362"
   },
   "outputs": [
    {
     "name": "stdout",
     "output_type": "stream",
     "text": [
      "[nltk_data] Downloading package stopwords to /root/nltk_data...\n",
      "[nltk_data]   Unzipping corpora/stopwords.zip.\n",
      "[nltk_data] Downloading package punkt to /root/nltk_data...\n",
      "[nltk_data]   Unzipping tokenizers/punkt.zip.\n",
      "[nltk_data] Downloading package wordnet to /root/nltk_data...\n",
      "[nltk_data]   Unzipping corpora/wordnet.zip.\n"
     ]
    },
    {
     "data": {
      "text/plain": [
       "True"
      ]
     },
     "execution_count": 3,
     "metadata": {
      "tags": []
     },
     "output_type": "execute_result"
    }
   ],
   "source": [
    "import nltk\n",
    "\n",
    "nltk.download('stopwords')\n",
    "from nltk.corpus import stopwords\n",
    "\n",
    "nltk.download('punkt')\n",
    "from nltk.tokenize import word_tokenize\n",
    "\n",
    "from sklearn.feature_extraction.text import CountVectorizer,TfidfVectorizer\n",
    "# count vectorizer is for bag of words, tfid vectorizer is for tfidf\n",
    "\n",
    "from string import punctuation\n",
    "\n",
    "nltk.download('wordnet')"
   ]
  },
  {
   "cell_type": "code",
   "execution_count": 4,
   "metadata": {
    "executionInfo": {
     "elapsed": 7,
     "status": "ok",
     "timestamp": 1625406082288,
     "user": {
      "displayName": "Ruchira S Dwivedi",
      "photoUrl": "",
      "userId": "08004570390284030604"
     },
     "user_tz": -330
    },
    "id": "tzVea7n6xC8C"
   },
   "outputs": [],
   "source": [
    "from sklearn.model_selection import train_test_split\n",
    "from collections import Counter\n",
    "\n",
    "from sklearn.preprocessing import MultiLabelBinarizer\n",
    "from sklearn.linear_model import LogisticRegression\n",
    "from sklearn.pipeline import Pipeline\n",
    "from sklearn.metrics import accuracy_score,recall_score,precision_score,f1_score,classification_report\n",
    "from sklearn.multiclass import OneVsRestClassifier\n"
   ]
  },
  {
   "cell_type": "markdown",
   "metadata": {
    "id": "EMHKZYhMnYjS"
   },
   "source": [
    "## **Step 1. Import and analyse the data set**"
   ]
  },
  {
   "cell_type": "code",
   "execution_count": 5,
   "metadata": {
    "executionInfo": {
     "elapsed": 15564,
     "status": "ok",
     "timestamp": 1625406100522,
     "user": {
      "displayName": "Ruchira S Dwivedi",
      "photoUrl": "",
      "userId": "08004570390284030604"
     },
     "user_tz": -330
    },
    "id": "G7yOgY6Wx3Db"
   },
   "outputs": [],
   "source": [
    "df_temp=pd.read_csv('/content/drive/MyDrive/Mod 10- NLP/Project-1/PART1/blogtext.csv')"
   ]
  },
  {
   "cell_type": "code",
   "execution_count": 6,
   "metadata": {
    "executionInfo": {
     "elapsed": 8,
     "status": "ok",
     "timestamp": 1625406100525,
     "user": {
      "displayName": "Ruchira S Dwivedi",
      "photoUrl": "",
      "userId": "08004570390284030604"
     },
     "user_tz": -330
    },
    "id": "doceToqvx-y4"
   },
   "outputs": [],
   "source": [
    "df=df_temp.iloc[0:10000,]"
   ]
  },
  {
   "cell_type": "code",
   "execution_count": 7,
   "metadata": {
    "colab": {
     "base_uri": "https://localhost:8080/",
     "height": 266
    },
    "executionInfo": {
     "elapsed": 972,
     "status": "ok",
     "timestamp": 1625406105950,
     "user": {
      "displayName": "Ruchira S Dwivedi",
      "photoUrl": "",
      "userId": "08004570390284030604"
     },
     "user_tz": -330
    },
    "id": "5Qp3fc4oxmdW",
    "outputId": "b60bdb24-4bd5-4617-bf81-4300cfc794a9"
   },
   "outputs": [
    {
     "data": {
      "text/html": [
       "<div>\n",
       "<style scoped>\n",
       "    .dataframe tbody tr th:only-of-type {\n",
       "        vertical-align: middle;\n",
       "    }\n",
       "\n",
       "    .dataframe tbody tr th {\n",
       "        vertical-align: top;\n",
       "    }\n",
       "\n",
       "    .dataframe thead th {\n",
       "        text-align: right;\n",
       "    }\n",
       "</style>\n",
       "<table border=\"1\" class=\"dataframe\">\n",
       "  <thead>\n",
       "    <tr style=\"text-align: right;\">\n",
       "      <th></th>\n",
       "      <th>id</th>\n",
       "      <th>gender</th>\n",
       "      <th>age</th>\n",
       "      <th>topic</th>\n",
       "      <th>sign</th>\n",
       "      <th>date</th>\n",
       "      <th>text</th>\n",
       "    </tr>\n",
       "  </thead>\n",
       "  <tbody>\n",
       "    <tr>\n",
       "      <th>0</th>\n",
       "      <td>2059027</td>\n",
       "      <td>male</td>\n",
       "      <td>15</td>\n",
       "      <td>Student</td>\n",
       "      <td>Leo</td>\n",
       "      <td>14,May,2004</td>\n",
       "      <td>Info has been found (+/- 100 pages,...</td>\n",
       "    </tr>\n",
       "    <tr>\n",
       "      <th>1</th>\n",
       "      <td>2059027</td>\n",
       "      <td>male</td>\n",
       "      <td>15</td>\n",
       "      <td>Student</td>\n",
       "      <td>Leo</td>\n",
       "      <td>13,May,2004</td>\n",
       "      <td>These are the team members:   Drewe...</td>\n",
       "    </tr>\n",
       "    <tr>\n",
       "      <th>2</th>\n",
       "      <td>2059027</td>\n",
       "      <td>male</td>\n",
       "      <td>15</td>\n",
       "      <td>Student</td>\n",
       "      <td>Leo</td>\n",
       "      <td>12,May,2004</td>\n",
       "      <td>In het kader van kernfusie op aarde...</td>\n",
       "    </tr>\n",
       "    <tr>\n",
       "      <th>3</th>\n",
       "      <td>2059027</td>\n",
       "      <td>male</td>\n",
       "      <td>15</td>\n",
       "      <td>Student</td>\n",
       "      <td>Leo</td>\n",
       "      <td>12,May,2004</td>\n",
       "      <td>testing!!!  testing!!!</td>\n",
       "    </tr>\n",
       "    <tr>\n",
       "      <th>4</th>\n",
       "      <td>3581210</td>\n",
       "      <td>male</td>\n",
       "      <td>33</td>\n",
       "      <td>InvestmentBanking</td>\n",
       "      <td>Aquarius</td>\n",
       "      <td>11,June,2004</td>\n",
       "      <td>Thanks to Yahoo!'s Toolbar I can ...</td>\n",
       "    </tr>\n",
       "    <tr>\n",
       "      <th>5</th>\n",
       "      <td>3581210</td>\n",
       "      <td>male</td>\n",
       "      <td>33</td>\n",
       "      <td>InvestmentBanking</td>\n",
       "      <td>Aquarius</td>\n",
       "      <td>10,June,2004</td>\n",
       "      <td>I had an interesting conversation...</td>\n",
       "    </tr>\n",
       "    <tr>\n",
       "      <th>6</th>\n",
       "      <td>3581210</td>\n",
       "      <td>male</td>\n",
       "      <td>33</td>\n",
       "      <td>InvestmentBanking</td>\n",
       "      <td>Aquarius</td>\n",
       "      <td>10,June,2004</td>\n",
       "      <td>Somehow Coca-Cola has a way of su...</td>\n",
       "    </tr>\n",
       "  </tbody>\n",
       "</table>\n",
       "</div>"
      ],
      "text/plain": [
       "        id  ...                                               text\n",
       "0  2059027  ...             Info has been found (+/- 100 pages,...\n",
       "1  2059027  ...             These are the team members:   Drewe...\n",
       "2  2059027  ...             In het kader van kernfusie op aarde...\n",
       "3  2059027  ...                   testing!!!  testing!!!          \n",
       "4  3581210  ...               Thanks to Yahoo!'s Toolbar I can ...\n",
       "5  3581210  ...               I had an interesting conversation...\n",
       "6  3581210  ...               Somehow Coca-Cola has a way of su...\n",
       "\n",
       "[7 rows x 7 columns]"
      ]
     },
     "execution_count": 7,
     "metadata": {
      "tags": []
     },
     "output_type": "execute_result"
    }
   ],
   "source": [
    "df.head(7)"
   ]
  },
  {
   "cell_type": "code",
   "execution_count": null,
   "metadata": {
    "colab": {
     "base_uri": "https://localhost:8080/"
    },
    "executionInfo": {
     "elapsed": 793,
     "status": "ok",
     "timestamp": 1625395041427,
     "user": {
      "displayName": "Ruchira S Dwivedi",
      "photoUrl": "",
      "userId": "08004570390284030604"
     },
     "user_tz": -330
    },
    "id": "858iymW2xzEL",
    "outputId": "0b801db5-16ba-422f-c617-3c0c8e85a4f2"
   },
   "outputs": [
    {
     "data": {
      "text/plain": [
       "(10000, 7)"
      ]
     },
     "execution_count": 8,
     "metadata": {
      "tags": []
     },
     "output_type": "execute_result"
    }
   ],
   "source": [
    "df.shape"
   ]
  },
  {
   "cell_type": "code",
   "execution_count": null,
   "metadata": {
    "colab": {
     "base_uri": "https://localhost:8080/"
    },
    "executionInfo": {
     "elapsed": 7,
     "status": "ok",
     "timestamp": 1624895080760,
     "user": {
      "displayName": "Ruchira S Dwivedi",
      "photoUrl": "",
      "userId": "08004570390284030604"
     },
     "user_tz": -330
    },
    "id": "oRkkWdO5xzKw",
    "outputId": "8036910e-bb8a-4aa0-abc3-d136e8135932"
   },
   "outputs": [
    {
     "name": "stdout",
     "output_type": "stream",
     "text": [
      "<class 'pandas.core.frame.DataFrame'>\n",
      "RangeIndex: 10000 entries, 0 to 9999\n",
      "Data columns (total 7 columns):\n",
      " #   Column  Non-Null Count  Dtype \n",
      "---  ------  --------------  ----- \n",
      " 0   id      10000 non-null  int64 \n",
      " 1   gender  10000 non-null  object\n",
      " 2   age     10000 non-null  int64 \n",
      " 3   topic   10000 non-null  object\n",
      " 4   sign    10000 non-null  object\n",
      " 5   date    10000 non-null  object\n",
      " 6   text    10000 non-null  object\n",
      "dtypes: int64(2), object(5)\n",
      "memory usage: 547.0+ KB\n"
     ]
    }
   ],
   "source": [
    "df.info()"
   ]
  },
  {
   "cell_type": "code",
   "execution_count": null,
   "metadata": {
    "colab": {
     "base_uri": "https://localhost:8080/"
    },
    "executionInfo": {
     "elapsed": 7,
     "status": "ok",
     "timestamp": 1624895084288,
     "user": {
      "displayName": "Ruchira S Dwivedi",
      "photoUrl": "",
      "userId": "08004570390284030604"
     },
     "user_tz": -330
    },
    "id": "lclwMW4-x7AI",
    "outputId": "099f5767-c7ee-44a2-b255-d20d9e9241b5"
   },
   "outputs": [
    {
     "data": {
      "text/plain": [
       "id        0\n",
       "gender    0\n",
       "age       0\n",
       "topic     0\n",
       "sign      0\n",
       "date      0\n",
       "text      0\n",
       "dtype: int64"
      ]
     },
     "execution_count": 11,
     "metadata": {
      "tags": []
     },
     "output_type": "execute_result"
    }
   ],
   "source": [
    "df.isnull().sum()"
   ]
  },
  {
   "cell_type": "code",
   "execution_count": null,
   "metadata": {
    "colab": {
     "base_uri": "https://localhost:8080/"
    },
    "executionInfo": {
     "elapsed": 667,
     "status": "ok",
     "timestamp": 1624895087067,
     "user": {
      "displayName": "Ruchira S Dwivedi",
      "photoUrl": "",
      "userId": "08004570390284030604"
     },
     "user_tz": -330
    },
    "id": "2_tTSb8_x7Gg",
    "outputId": "bacc8034-4127-4d71-d113-2e566e066a6f"
   },
   "outputs": [
    {
     "data": {
      "text/plain": [
       "id        0\n",
       "gender    0\n",
       "age       0\n",
       "topic     0\n",
       "sign      0\n",
       "date      0\n",
       "text      0\n",
       "dtype: int64"
      ]
     },
     "execution_count": 12,
     "metadata": {
      "tags": []
     },
     "output_type": "execute_result"
    }
   ],
   "source": [
    "df.isna().sum()"
   ]
  },
  {
   "cell_type": "code",
   "execution_count": null,
   "metadata": {
    "colab": {
     "base_uri": "https://localhost:8080/"
    },
    "executionInfo": {
     "elapsed": 407,
     "status": "ok",
     "timestamp": 1624895103260,
     "user": {
      "displayName": "Ruchira S Dwivedi",
      "photoUrl": "",
      "userId": "08004570390284030604"
     },
     "user_tz": -330
    },
    "id": "c9R2T4jOx7Mj",
    "outputId": "09657c04-3158-4790-acd8-0cb7cbdea545"
   },
   "outputs": [
    {
     "data": {
      "text/plain": [
       "214"
      ]
     },
     "execution_count": 13,
     "metadata": {
      "tags": []
     },
     "output_type": "execute_result"
    }
   ],
   "source": [
    "df['id'].nunique()"
   ]
  },
  {
   "cell_type": "code",
   "execution_count": null,
   "metadata": {
    "colab": {
     "base_uri": "https://localhost:8080/"
    },
    "executionInfo": {
     "elapsed": 4,
     "status": "ok",
     "timestamp": 1624895105035,
     "user": {
      "displayName": "Ruchira S Dwivedi",
      "photoUrl": "",
      "userId": "08004570390284030604"
     },
     "user_tz": -330
    },
    "id": "4ysx08HCx7Pc",
    "outputId": "83f8a15f-2d67-45a2-a45a-91fcfabd4d72"
   },
   "outputs": [
    {
     "data": {
      "text/plain": [
       "589736     2294\n",
       "883178     1616\n",
       "2821801     605\n",
       "1103575     558\n",
       "766556      532\n",
       "           ... \n",
       "4116577       1\n",
       "3544864       1\n",
       "3337329       1\n",
       "3688178       1\n",
       "4198080       1\n",
       "Name: id, Length: 214, dtype: int64"
      ]
     },
     "execution_count": 14,
     "metadata": {
      "tags": []
     },
     "output_type": "execute_result"
    }
   ],
   "source": [
    "df['id'].value_counts()"
   ]
  },
  {
   "cell_type": "code",
   "execution_count": null,
   "metadata": {
    "colab": {
     "base_uri": "https://localhost:8080/"
    },
    "executionInfo": {
     "elapsed": 410,
     "status": "ok",
     "timestamp": 1624895109018,
     "user": {
      "displayName": "Ruchira S Dwivedi",
      "photoUrl": "",
      "userId": "08004570390284030604"
     },
     "user_tz": -330
    },
    "id": "6z2CkMZhyIRM",
    "outputId": "8e18e981-e428-4e53-d1d9-6339faabbf52"
   },
   "outputs": [
    {
     "data": {
      "text/plain": [
       "26"
      ]
     },
     "execution_count": 15,
     "metadata": {
      "tags": []
     },
     "output_type": "execute_result"
    }
   ],
   "source": [
    "df['topic'].nunique()"
   ]
  },
  {
   "cell_type": "code",
   "execution_count": null,
   "metadata": {
    "colab": {
     "base_uri": "https://localhost:8080/"
    },
    "executionInfo": {
     "elapsed": 4,
     "status": "ok",
     "timestamp": 1624895110884,
     "user": {
      "displayName": "Ruchira S Dwivedi",
      "photoUrl": "",
      "userId": "08004570390284030604"
     },
     "user_tz": -330
    },
    "id": "i_x-dPvtyMTx",
    "outputId": "dde6dbc9-fcf6-498d-efc3-8e8d4424c194"
   },
   "outputs": [
    {
     "data": {
      "text/plain": [
       "indUnk                     3287\n",
       "Technology                 2654\n",
       "Fashion                    1622\n",
       "Student                    1137\n",
       "Education                   270\n",
       "Marketing                   156\n",
       "Engineering                 127\n",
       "Internet                    118\n",
       "Communications-Media         99\n",
       "BusinessServices             91\n",
       "Sports-Recreation            80\n",
       "Non-Profit                   71\n",
       "InvestmentBanking            70\n",
       "Science                      63\n",
       "Arts                         45\n",
       "Consulting                   21\n",
       "Museums-Libraries            17\n",
       "Banking                      16\n",
       "Automotive                   14\n",
       "Law                          11\n",
       "LawEnforcement-Security      10\n",
       "Religion                      9\n",
       "Accounting                    4\n",
       "Publishing                    4\n",
       "Telecommunications            2\n",
       "HumanResources                2\n",
       "Name: topic, dtype: int64"
      ]
     },
     "execution_count": 16,
     "metadata": {
      "tags": []
     },
     "output_type": "execute_result"
    }
   ],
   "source": [
    "df['topic'].value_counts()"
   ]
  },
  {
   "cell_type": "markdown",
   "metadata": {
    "id": "7qbxBOxJm--C"
   },
   "source": [
    "## **Step 2: Perform data pre-processing on the data**"
   ]
  },
  {
   "cell_type": "markdown",
   "metadata": {
    "id": "J6Q7LrMWm95W"
   },
   "source": [
    "## **Step 2.1: Data cleansing by removing unwanted characters, spaces, stop words etc. Convert text to lowercase.**"
   ]
  },
  {
   "cell_type": "markdown",
   "metadata": {
    "id": "0jxOb45Bys1n"
   },
   "source": [
    "## **Removing special characters from the dataset 'text' using the 're\" library**"
   ]
  },
  {
   "cell_type": "code",
   "execution_count": 8,
   "metadata": {
    "executionInfo": {
     "elapsed": 1420,
     "status": "ok",
     "timestamp": 1625406117805,
     "user": {
      "displayName": "Ruchira S Dwivedi",
      "photoUrl": "",
      "userId": "08004570390284030604"
     },
     "user_tz": -330
    },
    "id": "FmLzO0AuyP9n"
   },
   "outputs": [],
   "source": [
    "df['text']=df['text'].apply(lambda x : re.sub('[@,.,^,$,*,?,\\,/,\\n,\\t,<,>,&,:,\\(,\\),+,\\-,!,+,-,\\']','',x))"
   ]
  },
  {
   "cell_type": "code",
   "execution_count": null,
   "metadata": {
    "colab": {
     "base_uri": "https://localhost:8080/",
     "height": 204
    },
    "executionInfo": {
     "elapsed": 13,
     "status": "ok",
     "timestamp": 1624895147823,
     "user": {
      "displayName": "Ruchira S Dwivedi",
      "photoUrl": "",
      "userId": "08004570390284030604"
     },
     "user_tz": -330
    },
    "id": "xsJBL99IzFfG",
    "outputId": "ec5389a0-6bfa-4e84-811b-d3724f07b928"
   },
   "outputs": [
    {
     "data": {
      "text/html": [
       "<div>\n",
       "<style scoped>\n",
       "    .dataframe tbody tr th:only-of-type {\n",
       "        vertical-align: middle;\n",
       "    }\n",
       "\n",
       "    .dataframe tbody tr th {\n",
       "        vertical-align: top;\n",
       "    }\n",
       "\n",
       "    .dataframe thead th {\n",
       "        text-align: right;\n",
       "    }\n",
       "</style>\n",
       "<table border=\"1\" class=\"dataframe\">\n",
       "  <thead>\n",
       "    <tr style=\"text-align: right;\">\n",
       "      <th></th>\n",
       "      <th>id</th>\n",
       "      <th>gender</th>\n",
       "      <th>age</th>\n",
       "      <th>topic</th>\n",
       "      <th>sign</th>\n",
       "      <th>date</th>\n",
       "      <th>text</th>\n",
       "    </tr>\n",
       "  </thead>\n",
       "  <tbody>\n",
       "    <tr>\n",
       "      <th>0</th>\n",
       "      <td>2059027</td>\n",
       "      <td>male</td>\n",
       "      <td>15</td>\n",
       "      <td>Student</td>\n",
       "      <td>Leo</td>\n",
       "      <td>14,May,2004</td>\n",
       "      <td>Info has been found  100 pages and ...</td>\n",
       "    </tr>\n",
       "    <tr>\n",
       "      <th>1</th>\n",
       "      <td>2059027</td>\n",
       "      <td>male</td>\n",
       "      <td>15</td>\n",
       "      <td>Student</td>\n",
       "      <td>Leo</td>\n",
       "      <td>13,May,2004</td>\n",
       "      <td>These are the team members   Drewes...</td>\n",
       "    </tr>\n",
       "    <tr>\n",
       "      <th>2</th>\n",
       "      <td>2059027</td>\n",
       "      <td>male</td>\n",
       "      <td>15</td>\n",
       "      <td>Student</td>\n",
       "      <td>Leo</td>\n",
       "      <td>12,May,2004</td>\n",
       "      <td>In het kader van kernfusie op aarde...</td>\n",
       "    </tr>\n",
       "    <tr>\n",
       "      <th>3</th>\n",
       "      <td>2059027</td>\n",
       "      <td>male</td>\n",
       "      <td>15</td>\n",
       "      <td>Student</td>\n",
       "      <td>Leo</td>\n",
       "      <td>12,May,2004</td>\n",
       "      <td>testing  testing</td>\n",
       "    </tr>\n",
       "    <tr>\n",
       "      <th>4</th>\n",
       "      <td>3581210</td>\n",
       "      <td>male</td>\n",
       "      <td>33</td>\n",
       "      <td>InvestmentBanking</td>\n",
       "      <td>Aquarius</td>\n",
       "      <td>11,June,2004</td>\n",
       "      <td>Thanks to Yahoos Toolbar I can no...</td>\n",
       "    </tr>\n",
       "  </tbody>\n",
       "</table>\n",
       "</div>"
      ],
      "text/plain": [
       "        id  ...                                               text\n",
       "0  2059027  ...             Info has been found  100 pages and ...\n",
       "1  2059027  ...             These are the team members   Drewes...\n",
       "2  2059027  ...             In het kader van kernfusie op aarde...\n",
       "3  2059027  ...                         testing  testing          \n",
       "4  3581210  ...               Thanks to Yahoos Toolbar I can no...\n",
       "\n",
       "[5 rows x 7 columns]"
      ]
     },
     "execution_count": 20,
     "metadata": {
      "tags": []
     },
     "output_type": "execute_result"
    }
   ],
   "source": [
    "df.head()"
   ]
  },
  {
   "cell_type": "markdown",
   "metadata": {
    "id": "Fb9DULtMy1kb"
   },
   "source": [
    "# **Converting every character to lower case characters and striping spaces from each feature**"
   ]
  },
  {
   "cell_type": "code",
   "execution_count": 9,
   "metadata": {
    "executionInfo": {
     "elapsed": 954,
     "status": "ok",
     "timestamp": 1625406124003,
     "user": {
      "displayName": "Ruchira S Dwivedi",
      "photoUrl": "",
      "userId": "08004570390284030604"
     },
     "user_tz": -330
    },
    "id": "CpvCvR9Ry1uj"
   },
   "outputs": [],
   "source": [
    "for col in df.columns:\n",
    "    temp=df[col]\n",
    "    if temp.dtype == object:\n",
    "        df[col]=df[col].apply(lambda x : x.lower())\n",
    "        df[col]=df[col].apply(lambda x : x.strip())"
   ]
  },
  {
   "cell_type": "code",
   "execution_count": null,
   "metadata": {
    "colab": {
     "base_uri": "https://localhost:8080/",
     "height": 204
    },
    "executionInfo": {
     "elapsed": 509,
     "status": "ok",
     "timestamp": 1625395102266,
     "user": {
      "displayName": "Ruchira S Dwivedi",
      "photoUrl": "",
      "userId": "08004570390284030604"
     },
     "user_tz": -330
    },
    "id": "p7vOJOY1zIbE",
    "outputId": "b4815319-0934-48d9-b0e8-ef8fb136d93e"
   },
   "outputs": [
    {
     "data": {
      "text/html": [
       "<div>\n",
       "<style scoped>\n",
       "    .dataframe tbody tr th:only-of-type {\n",
       "        vertical-align: middle;\n",
       "    }\n",
       "\n",
       "    .dataframe tbody tr th {\n",
       "        vertical-align: top;\n",
       "    }\n",
       "\n",
       "    .dataframe thead th {\n",
       "        text-align: right;\n",
       "    }\n",
       "</style>\n",
       "<table border=\"1\" class=\"dataframe\">\n",
       "  <thead>\n",
       "    <tr style=\"text-align: right;\">\n",
       "      <th></th>\n",
       "      <th>id</th>\n",
       "      <th>gender</th>\n",
       "      <th>age</th>\n",
       "      <th>topic</th>\n",
       "      <th>sign</th>\n",
       "      <th>date</th>\n",
       "      <th>text</th>\n",
       "    </tr>\n",
       "  </thead>\n",
       "  <tbody>\n",
       "    <tr>\n",
       "      <th>0</th>\n",
       "      <td>2059027</td>\n",
       "      <td>male</td>\n",
       "      <td>15</td>\n",
       "      <td>student</td>\n",
       "      <td>leo</td>\n",
       "      <td>14,may,2004</td>\n",
       "      <td>info has been found  100 pages and 45 mb of pd...</td>\n",
       "    </tr>\n",
       "    <tr>\n",
       "      <th>1</th>\n",
       "      <td>2059027</td>\n",
       "      <td>male</td>\n",
       "      <td>15</td>\n",
       "      <td>student</td>\n",
       "      <td>leo</td>\n",
       "      <td>13,may,2004</td>\n",
       "      <td>these are the team members   drewes van der la...</td>\n",
       "    </tr>\n",
       "    <tr>\n",
       "      <th>2</th>\n",
       "      <td>2059027</td>\n",
       "      <td>male</td>\n",
       "      <td>15</td>\n",
       "      <td>student</td>\n",
       "      <td>leo</td>\n",
       "      <td>12,may,2004</td>\n",
       "      <td>in het kader van kernfusie op aarde  maak je e...</td>\n",
       "    </tr>\n",
       "    <tr>\n",
       "      <th>3</th>\n",
       "      <td>2059027</td>\n",
       "      <td>male</td>\n",
       "      <td>15</td>\n",
       "      <td>student</td>\n",
       "      <td>leo</td>\n",
       "      <td>12,may,2004</td>\n",
       "      <td>testing  testing</td>\n",
       "    </tr>\n",
       "    <tr>\n",
       "      <th>4</th>\n",
       "      <td>3581210</td>\n",
       "      <td>male</td>\n",
       "      <td>33</td>\n",
       "      <td>investmentbanking</td>\n",
       "      <td>aquarius</td>\n",
       "      <td>11,june,2004</td>\n",
       "      <td>thanks to yahoos toolbar i can now capture the...</td>\n",
       "    </tr>\n",
       "  </tbody>\n",
       "</table>\n",
       "</div>"
      ],
      "text/plain": [
       "        id  ...                                               text\n",
       "0  2059027  ...  info has been found  100 pages and 45 mb of pd...\n",
       "1  2059027  ...  these are the team members   drewes van der la...\n",
       "2  2059027  ...  in het kader van kernfusie op aarde  maak je e...\n",
       "3  2059027  ...                                   testing  testing\n",
       "4  3581210  ...  thanks to yahoos toolbar i can now capture the...\n",
       "\n",
       "[5 rows x 7 columns]"
      ]
     },
     "execution_count": 11,
     "metadata": {
      "tags": []
     },
     "output_type": "execute_result"
    }
   ],
   "source": [
    "df.head()"
   ]
  },
  {
   "cell_type": "markdown",
   "metadata": {
    "id": "A5xRJuVGTLaV"
   },
   "source": [
    "## **Tokenizing the Text data**"
   ]
  },
  {
   "cell_type": "code",
   "execution_count": 10,
   "metadata": {
    "executionInfo": {
     "elapsed": 715,
     "status": "ok",
     "timestamp": 1625406129045,
     "user": {
      "displayName": "Ruchira S Dwivedi",
      "photoUrl": "",
      "userId": "08004570390284030604"
     },
     "user_tz": -330
    },
    "id": "TWLgUTnR1dMW"
   },
   "outputs": [],
   "source": [
    "stop_words = stopwords.words('english') + list(punctuation)\n",
    " \n",
    "def tokenize(text):\n",
    "    words = word_tokenize(text)\n",
    "    words = [w.lower() for w in words]\n",
    "    #return [w for w in words if w not in stop_words and not w.isdigit()]\n",
    "    return [w for w in words if w not in stop_words]"
   ]
  },
  {
   "cell_type": "code",
   "execution_count": 11,
   "metadata": {
    "executionInfo": {
     "elapsed": 8514,
     "status": "ok",
     "timestamp": 1625406140551,
     "user": {
      "displayName": "Ruchira S Dwivedi",
      "photoUrl": "",
      "userId": "08004570390284030604"
     },
     "user_tz": -330
    },
    "id": "QV3xaVNr1dO8"
   },
   "outputs": [],
   "source": [
    "df['Processed_text']=df['text'].apply(lambda x: tokenize(x))"
   ]
  },
  {
   "cell_type": "code",
   "execution_count": null,
   "metadata": {
    "colab": {
     "base_uri": "https://localhost:8080/",
     "height": 272
    },
    "executionInfo": {
     "elapsed": 679,
     "status": "ok",
     "timestamp": 1625395174838,
     "user": {
      "displayName": "Ruchira S Dwivedi",
      "photoUrl": "",
      "userId": "08004570390284030604"
     },
     "user_tz": -330
    },
    "id": "sjC39xQJ1dRr",
    "outputId": "d4d1bddd-05aa-47c5-cc93-cb9de47761c5"
   },
   "outputs": [
    {
     "data": {
      "text/html": [
       "<div>\n",
       "<style scoped>\n",
       "    .dataframe tbody tr th:only-of-type {\n",
       "        vertical-align: middle;\n",
       "    }\n",
       "\n",
       "    .dataframe tbody tr th {\n",
       "        vertical-align: top;\n",
       "    }\n",
       "\n",
       "    .dataframe thead th {\n",
       "        text-align: right;\n",
       "    }\n",
       "</style>\n",
       "<table border=\"1\" class=\"dataframe\">\n",
       "  <thead>\n",
       "    <tr style=\"text-align: right;\">\n",
       "      <th></th>\n",
       "      <th>id</th>\n",
       "      <th>gender</th>\n",
       "      <th>age</th>\n",
       "      <th>topic</th>\n",
       "      <th>sign</th>\n",
       "      <th>date</th>\n",
       "      <th>text</th>\n",
       "      <th>Processed_text</th>\n",
       "    </tr>\n",
       "  </thead>\n",
       "  <tbody>\n",
       "    <tr>\n",
       "      <th>0</th>\n",
       "      <td>2059027</td>\n",
       "      <td>male</td>\n",
       "      <td>15</td>\n",
       "      <td>student</td>\n",
       "      <td>leo</td>\n",
       "      <td>14,may,2004</td>\n",
       "      <td>info has been found  100 pages and 45 mb of pd...</td>\n",
       "      <td>[info, found, 100, pages, 45, mb, pdf, files, ...</td>\n",
       "    </tr>\n",
       "    <tr>\n",
       "      <th>1</th>\n",
       "      <td>2059027</td>\n",
       "      <td>male</td>\n",
       "      <td>15</td>\n",
       "      <td>student</td>\n",
       "      <td>leo</td>\n",
       "      <td>13,may,2004</td>\n",
       "      <td>these are the team members   drewes van der la...</td>\n",
       "      <td>[team, members, drewes, van, der, laag, urllin...</td>\n",
       "    </tr>\n",
       "    <tr>\n",
       "      <th>2</th>\n",
       "      <td>2059027</td>\n",
       "      <td>male</td>\n",
       "      <td>15</td>\n",
       "      <td>student</td>\n",
       "      <td>leo</td>\n",
       "      <td>12,may,2004</td>\n",
       "      <td>in het kader van kernfusie op aarde  maak je e...</td>\n",
       "      <td>[het, kader, van, kernfusie, op, aarde, maak, ...</td>\n",
       "    </tr>\n",
       "    <tr>\n",
       "      <th>3</th>\n",
       "      <td>2059027</td>\n",
       "      <td>male</td>\n",
       "      <td>15</td>\n",
       "      <td>student</td>\n",
       "      <td>leo</td>\n",
       "      <td>12,may,2004</td>\n",
       "      <td>testing  testing</td>\n",
       "      <td>[testing, testing]</td>\n",
       "    </tr>\n",
       "    <tr>\n",
       "      <th>4</th>\n",
       "      <td>3581210</td>\n",
       "      <td>male</td>\n",
       "      <td>33</td>\n",
       "      <td>investmentbanking</td>\n",
       "      <td>aquarius</td>\n",
       "      <td>11,june,2004</td>\n",
       "      <td>thanks to yahoos toolbar i can now capture the...</td>\n",
       "      <td>[thanks, yahoos, toolbar, capture, urls, popup...</td>\n",
       "    </tr>\n",
       "  </tbody>\n",
       "</table>\n",
       "</div>"
      ],
      "text/plain": [
       "        id  ...                                     Processed_text\n",
       "0  2059027  ...  [info, found, 100, pages, 45, mb, pdf, files, ...\n",
       "1  2059027  ...  [team, members, drewes, van, der, laag, urllin...\n",
       "2  2059027  ...  [het, kader, van, kernfusie, op, aarde, maak, ...\n",
       "3  2059027  ...                                 [testing, testing]\n",
       "4  3581210  ...  [thanks, yahoos, toolbar, capture, urls, popup...\n",
       "\n",
       "[5 rows x 8 columns]"
      ]
     },
     "execution_count": 15,
     "metadata": {
      "tags": []
     },
     "output_type": "execute_result"
    }
   ],
   "source": [
    "df.head()"
   ]
  },
  {
   "cell_type": "code",
   "execution_count": 12,
   "metadata": {
    "executionInfo": {
     "elapsed": 2153,
     "status": "ok",
     "timestamp": 1625406148349,
     "user": {
      "displayName": "Ruchira S Dwivedi",
      "photoUrl": "",
      "userId": "08004570390284030604"
     },
     "user_tz": -330
    },
    "id": "YfKmPkfP1dUL"
   },
   "outputs": [],
   "source": [
    "for i in range(0,df.shape[0]):\n",
    "    df['Processed_text'][i]=' '.join(df['Processed_text'][i])"
   ]
  },
  {
   "cell_type": "code",
   "execution_count": 13,
   "metadata": {
    "colab": {
     "base_uri": "https://localhost:8080/",
     "height": 272
    },
    "executionInfo": {
     "elapsed": 13,
     "status": "ok",
     "timestamp": 1625406148350,
     "user": {
      "displayName": "Ruchira S Dwivedi",
      "photoUrl": "",
      "userId": "08004570390284030604"
     },
     "user_tz": -330
    },
    "id": "7bZZTIeR1dWn",
    "outputId": "2a72bedf-ecd0-4d42-e897-6045337c84c0"
   },
   "outputs": [
    {
     "data": {
      "text/html": [
       "<div>\n",
       "<style scoped>\n",
       "    .dataframe tbody tr th:only-of-type {\n",
       "        vertical-align: middle;\n",
       "    }\n",
       "\n",
       "    .dataframe tbody tr th {\n",
       "        vertical-align: top;\n",
       "    }\n",
       "\n",
       "    .dataframe thead th {\n",
       "        text-align: right;\n",
       "    }\n",
       "</style>\n",
       "<table border=\"1\" class=\"dataframe\">\n",
       "  <thead>\n",
       "    <tr style=\"text-align: right;\">\n",
       "      <th></th>\n",
       "      <th>id</th>\n",
       "      <th>gender</th>\n",
       "      <th>age</th>\n",
       "      <th>topic</th>\n",
       "      <th>sign</th>\n",
       "      <th>date</th>\n",
       "      <th>text</th>\n",
       "      <th>Processed_text</th>\n",
       "    </tr>\n",
       "  </thead>\n",
       "  <tbody>\n",
       "    <tr>\n",
       "      <th>0</th>\n",
       "      <td>2059027</td>\n",
       "      <td>male</td>\n",
       "      <td>15</td>\n",
       "      <td>student</td>\n",
       "      <td>leo</td>\n",
       "      <td>14,may,2004</td>\n",
       "      <td>info has been found  100 pages and 45 mb of pd...</td>\n",
       "      <td>info found 100 pages 45 mb pdf files wait unti...</td>\n",
       "    </tr>\n",
       "    <tr>\n",
       "      <th>1</th>\n",
       "      <td>2059027</td>\n",
       "      <td>male</td>\n",
       "      <td>15</td>\n",
       "      <td>student</td>\n",
       "      <td>leo</td>\n",
       "      <td>13,may,2004</td>\n",
       "      <td>these are the team members   drewes van der la...</td>\n",
       "      <td>team members drewes van der laag urllink mail ...</td>\n",
       "    </tr>\n",
       "    <tr>\n",
       "      <th>2</th>\n",
       "      <td>2059027</td>\n",
       "      <td>male</td>\n",
       "      <td>15</td>\n",
       "      <td>student</td>\n",
       "      <td>leo</td>\n",
       "      <td>12,may,2004</td>\n",
       "      <td>in het kader van kernfusie op aarde  maak je e...</td>\n",
       "      <td>het kader van kernfusie op aarde maak je eigen...</td>\n",
       "    </tr>\n",
       "    <tr>\n",
       "      <th>3</th>\n",
       "      <td>2059027</td>\n",
       "      <td>male</td>\n",
       "      <td>15</td>\n",
       "      <td>student</td>\n",
       "      <td>leo</td>\n",
       "      <td>12,may,2004</td>\n",
       "      <td>testing  testing</td>\n",
       "      <td>testing testing</td>\n",
       "    </tr>\n",
       "    <tr>\n",
       "      <th>4</th>\n",
       "      <td>3581210</td>\n",
       "      <td>male</td>\n",
       "      <td>33</td>\n",
       "      <td>investmentbanking</td>\n",
       "      <td>aquarius</td>\n",
       "      <td>11,june,2004</td>\n",
       "      <td>thanks to yahoos toolbar i can now capture the...</td>\n",
       "      <td>thanks yahoos toolbar capture urls popupswhich...</td>\n",
       "    </tr>\n",
       "  </tbody>\n",
       "</table>\n",
       "</div>"
      ],
      "text/plain": [
       "        id  ...                                     Processed_text\n",
       "0  2059027  ...  info found 100 pages 45 mb pdf files wait unti...\n",
       "1  2059027  ...  team members drewes van der laag urllink mail ...\n",
       "2  2059027  ...  het kader van kernfusie op aarde maak je eigen...\n",
       "3  2059027  ...                                    testing testing\n",
       "4  3581210  ...  thanks yahoos toolbar capture urls popupswhich...\n",
       "\n",
       "[5 rows x 8 columns]"
      ]
     },
     "execution_count": 13,
     "metadata": {
      "tags": []
     },
     "output_type": "execute_result"
    }
   ],
   "source": [
    "df.head()"
   ]
  },
  {
   "cell_type": "markdown",
   "metadata": {
    "id": "02FQbdm3T48J"
   },
   "source": [
    "## **Performing Lemmatization**"
   ]
  },
  {
   "cell_type": "code",
   "execution_count": 14,
   "metadata": {
    "executionInfo": {
     "elapsed": 4535,
     "status": "ok",
     "timestamp": 1625406157898,
     "user": {
      "displayName": "Ruchira S Dwivedi",
      "photoUrl": "",
      "userId": "08004570390284030604"
     },
     "user_tz": -330
    },
    "id": "7EeJIZo8T5Or"
   },
   "outputs": [],
   "source": [
    "from nltk.stem import WordNetLemmatizer\n",
    "lemma = WordNetLemmatizer()\n",
    "df['Processed_text'] = df['Processed_text'].apply(lambda x: ' '.join([lemma.lemmatize(x) for x in x.split()]))"
   ]
  },
  {
   "cell_type": "code",
   "execution_count": null,
   "metadata": {
    "colab": {
     "base_uri": "https://localhost:8080/",
     "height": 272
    },
    "executionInfo": {
     "elapsed": 392,
     "status": "ok",
     "timestamp": 1624895510878,
     "user": {
      "displayName": "Ruchira S Dwivedi",
      "photoUrl": "",
      "userId": "08004570390284030604"
     },
     "user_tz": -330
    },
    "id": "SUFo5zM-UM3_",
    "outputId": "09c9e750-3031-4b32-d74e-8b01694638fa"
   },
   "outputs": [
    {
     "data": {
      "text/html": [
       "<div>\n",
       "<style scoped>\n",
       "    .dataframe tbody tr th:only-of-type {\n",
       "        vertical-align: middle;\n",
       "    }\n",
       "\n",
       "    .dataframe tbody tr th {\n",
       "        vertical-align: top;\n",
       "    }\n",
       "\n",
       "    .dataframe thead th {\n",
       "        text-align: right;\n",
       "    }\n",
       "</style>\n",
       "<table border=\"1\" class=\"dataframe\">\n",
       "  <thead>\n",
       "    <tr style=\"text-align: right;\">\n",
       "      <th></th>\n",
       "      <th>id</th>\n",
       "      <th>gender</th>\n",
       "      <th>age</th>\n",
       "      <th>topic</th>\n",
       "      <th>sign</th>\n",
       "      <th>date</th>\n",
       "      <th>text</th>\n",
       "      <th>Processed_text</th>\n",
       "    </tr>\n",
       "  </thead>\n",
       "  <tbody>\n",
       "    <tr>\n",
       "      <th>0</th>\n",
       "      <td>2059027</td>\n",
       "      <td>male</td>\n",
       "      <td>15</td>\n",
       "      <td>student</td>\n",
       "      <td>leo</td>\n",
       "      <td>14,may,2004</td>\n",
       "      <td>info has been found  100 pages and 45 mb of pd...</td>\n",
       "      <td>info found 100 page 45 mb pdf file wait untill...</td>\n",
       "    </tr>\n",
       "    <tr>\n",
       "      <th>1</th>\n",
       "      <td>2059027</td>\n",
       "      <td>male</td>\n",
       "      <td>15</td>\n",
       "      <td>student</td>\n",
       "      <td>leo</td>\n",
       "      <td>13,may,2004</td>\n",
       "      <td>these are the team members   drewes van der la...</td>\n",
       "      <td>team member drewes van der laag urllink mail r...</td>\n",
       "    </tr>\n",
       "    <tr>\n",
       "      <th>2</th>\n",
       "      <td>2059027</td>\n",
       "      <td>male</td>\n",
       "      <td>15</td>\n",
       "      <td>student</td>\n",
       "      <td>leo</td>\n",
       "      <td>12,may,2004</td>\n",
       "      <td>in het kader van kernfusie op aarde  maak je e...</td>\n",
       "      <td>het kader van kernfusie op aarde maak je eigen...</td>\n",
       "    </tr>\n",
       "    <tr>\n",
       "      <th>3</th>\n",
       "      <td>2059027</td>\n",
       "      <td>male</td>\n",
       "      <td>15</td>\n",
       "      <td>student</td>\n",
       "      <td>leo</td>\n",
       "      <td>12,may,2004</td>\n",
       "      <td>testing  testing</td>\n",
       "      <td>testing testing</td>\n",
       "    </tr>\n",
       "    <tr>\n",
       "      <th>4</th>\n",
       "      <td>3581210</td>\n",
       "      <td>male</td>\n",
       "      <td>33</td>\n",
       "      <td>investmentbanking</td>\n",
       "      <td>aquarius</td>\n",
       "      <td>11,june,2004</td>\n",
       "      <td>thanks to yahoos toolbar i can now capture the...</td>\n",
       "      <td>thanks yahoo toolbar capture url popupswhich m...</td>\n",
       "    </tr>\n",
       "  </tbody>\n",
       "</table>\n",
       "</div>"
      ],
      "text/plain": [
       "        id  ...                                     Processed_text\n",
       "0  2059027  ...  info found 100 page 45 mb pdf file wait untill...\n",
       "1  2059027  ...  team member drewes van der laag urllink mail r...\n",
       "2  2059027  ...  het kader van kernfusie op aarde maak je eigen...\n",
       "3  2059027  ...                                    testing testing\n",
       "4  3581210  ...  thanks yahoo toolbar capture url popupswhich m...\n",
       "\n",
       "[5 rows x 8 columns]"
      ]
     },
     "execution_count": 31,
     "metadata": {
      "tags": []
     },
     "output_type": "execute_result"
    }
   ],
   "source": [
    "df.head()"
   ]
  },
  {
   "cell_type": "markdown",
   "metadata": {
    "id": "EvHD3b024XT5"
   },
   "source": [
    "Dropping Date from the original dataset"
   ]
  },
  {
   "cell_type": "code",
   "execution_count": 15,
   "metadata": {
    "executionInfo": {
     "elapsed": 567,
     "status": "ok",
     "timestamp": 1625406162599,
     "user": {
      "displayName": "Ruchira S Dwivedi",
      "photoUrl": "",
      "userId": "08004570390284030604"
     },
     "user_tz": -330
    },
    "id": "6CfLpkB34Xc9"
   },
   "outputs": [],
   "source": [
    "df.drop('date',inplace=True,axis=1)"
   ]
  },
  {
   "cell_type": "markdown",
   "metadata": {
    "id": "nHePntkImd7N"
   },
   "source": [
    "## **Step 2.2: Target/label merger and transformation**"
   ]
  },
  {
   "cell_type": "markdown",
   "metadata": {
    "id": "rjIQOz514mWv"
   },
   "source": [
    "Creating new feature in the original dataset with the name labels, This will contain the list generated by concatenating the follwoing four featurs Gender, Age, Topic,Sign"
   ]
  },
  {
   "cell_type": "code",
   "execution_count": 16,
   "metadata": {
    "executionInfo": {
     "elapsed": 364,
     "status": "ok",
     "timestamp": 1625406165793,
     "user": {
      "displayName": "Ruchira S Dwivedi",
      "photoUrl": "",
      "userId": "08004570390284030604"
     },
     "user_tz": -330
    },
    "id": "ZDUYVxA34Xjh"
   },
   "outputs": [],
   "source": [
    " # Age is Numeric , Converting it to str. This is required when leveraging  Multibinarizer\n",
    "df['age']=df['age'].astype('str')"
   ]
  },
  {
   "cell_type": "code",
   "execution_count": 17,
   "metadata": {
    "executionInfo": {
     "elapsed": 2,
     "status": "ok",
     "timestamp": 1625406166839,
     "user": {
      "displayName": "Ruchira S Dwivedi",
      "photoUrl": "",
      "userId": "08004570390284030604"
     },
     "user_tz": -330
    },
    "id": "pE_kl8Zd4XgV"
   },
   "outputs": [],
   "source": [
    "df['labels']=' '"
   ]
  },
  {
   "cell_type": "code",
   "execution_count": 18,
   "metadata": {
    "executionInfo": {
     "elapsed": 1444,
     "status": "ok",
     "timestamp": 1625406168638,
     "user": {
      "displayName": "Ruchira S Dwivedi",
      "photoUrl": "",
      "userId": "08004570390284030604"
     },
     "user_tz": -330
    },
    "id": "NUG565Sy4y3X"
   },
   "outputs": [],
   "source": [
    "for i in range(0,df.shape[0]):\n",
    "    new_label=[]\n",
    "    new_label.append(df['gender'][i])\n",
    "    new_label.append(df['age'][i])\n",
    "    new_label.append(df['topic'][i])\n",
    "    new_label.append(df['sign'][i])\n",
    "    df['labels'][i]=new_label"
   ]
  },
  {
   "cell_type": "code",
   "execution_count": null,
   "metadata": {
    "colab": {
     "base_uri": "https://localhost:8080/",
     "height": 272
    },
    "executionInfo": {
     "elapsed": 16,
     "status": "ok",
     "timestamp": 1625395218527,
     "user": {
      "displayName": "Ruchira S Dwivedi",
      "photoUrl": "",
      "userId": "08004570390284030604"
     },
     "user_tz": -330
    },
    "id": "93QXjQJV4y7Y",
    "outputId": "1cc3275f-df20-40e7-be94-b8d7b111e0ce"
   },
   "outputs": [
    {
     "data": {
      "text/html": [
       "<div>\n",
       "<style scoped>\n",
       "    .dataframe tbody tr th:only-of-type {\n",
       "        vertical-align: middle;\n",
       "    }\n",
       "\n",
       "    .dataframe tbody tr th {\n",
       "        vertical-align: top;\n",
       "    }\n",
       "\n",
       "    .dataframe thead th {\n",
       "        text-align: right;\n",
       "    }\n",
       "</style>\n",
       "<table border=\"1\" class=\"dataframe\">\n",
       "  <thead>\n",
       "    <tr style=\"text-align: right;\">\n",
       "      <th></th>\n",
       "      <th>id</th>\n",
       "      <th>gender</th>\n",
       "      <th>age</th>\n",
       "      <th>topic</th>\n",
       "      <th>sign</th>\n",
       "      <th>text</th>\n",
       "      <th>Processed_text</th>\n",
       "      <th>labels</th>\n",
       "    </tr>\n",
       "  </thead>\n",
       "  <tbody>\n",
       "    <tr>\n",
       "      <th>0</th>\n",
       "      <td>2059027</td>\n",
       "      <td>male</td>\n",
       "      <td>15</td>\n",
       "      <td>student</td>\n",
       "      <td>leo</td>\n",
       "      <td>info has been found  100 pages and 45 mb of pd...</td>\n",
       "      <td>info found 100 page 45 mb pdf file wait untill...</td>\n",
       "      <td>[male, 15, student, leo]</td>\n",
       "    </tr>\n",
       "    <tr>\n",
       "      <th>1</th>\n",
       "      <td>2059027</td>\n",
       "      <td>male</td>\n",
       "      <td>15</td>\n",
       "      <td>student</td>\n",
       "      <td>leo</td>\n",
       "      <td>these are the team members   drewes van der la...</td>\n",
       "      <td>team member drewes van der laag urllink mail r...</td>\n",
       "      <td>[male, 15, student, leo]</td>\n",
       "    </tr>\n",
       "    <tr>\n",
       "      <th>2</th>\n",
       "      <td>2059027</td>\n",
       "      <td>male</td>\n",
       "      <td>15</td>\n",
       "      <td>student</td>\n",
       "      <td>leo</td>\n",
       "      <td>in het kader van kernfusie op aarde  maak je e...</td>\n",
       "      <td>het kader van kernfusie op aarde maak je eigen...</td>\n",
       "      <td>[male, 15, student, leo]</td>\n",
       "    </tr>\n",
       "    <tr>\n",
       "      <th>3</th>\n",
       "      <td>2059027</td>\n",
       "      <td>male</td>\n",
       "      <td>15</td>\n",
       "      <td>student</td>\n",
       "      <td>leo</td>\n",
       "      <td>testing  testing</td>\n",
       "      <td>testing testing</td>\n",
       "      <td>[male, 15, student, leo]</td>\n",
       "    </tr>\n",
       "    <tr>\n",
       "      <th>4</th>\n",
       "      <td>3581210</td>\n",
       "      <td>male</td>\n",
       "      <td>33</td>\n",
       "      <td>investmentbanking</td>\n",
       "      <td>aquarius</td>\n",
       "      <td>thanks to yahoos toolbar i can now capture the...</td>\n",
       "      <td>thanks yahoo toolbar capture url popupswhich m...</td>\n",
       "      <td>[male, 33, investmentbanking, aquarius]</td>\n",
       "    </tr>\n",
       "  </tbody>\n",
       "</table>\n",
       "</div>"
      ],
      "text/plain": [
       "        id  ...                                   labels\n",
       "0  2059027  ...                 [male, 15, student, leo]\n",
       "1  2059027  ...                 [male, 15, student, leo]\n",
       "2  2059027  ...                 [male, 15, student, leo]\n",
       "3  2059027  ...                 [male, 15, student, leo]\n",
       "4  3581210  ...  [male, 33, investmentbanking, aquarius]\n",
       "\n",
       "[5 rows x 8 columns]"
      ]
     },
     "execution_count": 23,
     "metadata": {
      "tags": []
     },
     "output_type": "execute_result"
    }
   ],
   "source": [
    "df.head()"
   ]
  },
  {
   "cell_type": "code",
   "execution_count": 19,
   "metadata": {
    "executionInfo": {
     "elapsed": 333,
     "status": "ok",
     "timestamp": 1625406172274,
     "user": {
      "displayName": "Ruchira S Dwivedi",
      "photoUrl": "",
      "userId": "08004570390284030604"
     },
     "user_tz": -330
    },
    "id": "bjkqP66P4y-y"
   },
   "outputs": [],
   "source": [
    "df.drop(['id','gender','age','topic','sign'],inplace=True,axis=1)"
   ]
  },
  {
   "cell_type": "code",
   "execution_count": 20,
   "metadata": {
    "colab": {
     "base_uri": "https://localhost:8080/",
     "height": 204
    },
    "executionInfo": {
     "elapsed": 559,
     "status": "ok",
     "timestamp": 1625406173340,
     "user": {
      "displayName": "Ruchira S Dwivedi",
      "photoUrl": "",
      "userId": "08004570390284030604"
     },
     "user_tz": -330
    },
    "id": "PyHolCfP5bZp",
    "outputId": "31559a5f-409e-4d5d-bdd1-0360675b5f83"
   },
   "outputs": [
    {
     "data": {
      "text/html": [
       "<div>\n",
       "<style scoped>\n",
       "    .dataframe tbody tr th:only-of-type {\n",
       "        vertical-align: middle;\n",
       "    }\n",
       "\n",
       "    .dataframe tbody tr th {\n",
       "        vertical-align: top;\n",
       "    }\n",
       "\n",
       "    .dataframe thead th {\n",
       "        text-align: right;\n",
       "    }\n",
       "</style>\n",
       "<table border=\"1\" class=\"dataframe\">\n",
       "  <thead>\n",
       "    <tr style=\"text-align: right;\">\n",
       "      <th></th>\n",
       "      <th>text</th>\n",
       "      <th>Processed_text</th>\n",
       "      <th>labels</th>\n",
       "    </tr>\n",
       "  </thead>\n",
       "  <tbody>\n",
       "    <tr>\n",
       "      <th>0</th>\n",
       "      <td>info has been found  100 pages and 45 mb of pd...</td>\n",
       "      <td>info found 100 page 45 mb pdf file wait untill...</td>\n",
       "      <td>[male, 15, student, leo]</td>\n",
       "    </tr>\n",
       "    <tr>\n",
       "      <th>1</th>\n",
       "      <td>these are the team members   drewes van der la...</td>\n",
       "      <td>team member drewes van der laag urllink mail r...</td>\n",
       "      <td>[male, 15, student, leo]</td>\n",
       "    </tr>\n",
       "    <tr>\n",
       "      <th>2</th>\n",
       "      <td>in het kader van kernfusie op aarde  maak je e...</td>\n",
       "      <td>het kader van kernfusie op aarde maak je eigen...</td>\n",
       "      <td>[male, 15, student, leo]</td>\n",
       "    </tr>\n",
       "    <tr>\n",
       "      <th>3</th>\n",
       "      <td>testing  testing</td>\n",
       "      <td>testing testing</td>\n",
       "      <td>[male, 15, student, leo]</td>\n",
       "    </tr>\n",
       "    <tr>\n",
       "      <th>4</th>\n",
       "      <td>thanks to yahoos toolbar i can now capture the...</td>\n",
       "      <td>thanks yahoo toolbar capture url popupswhich m...</td>\n",
       "      <td>[male, 33, investmentbanking, aquarius]</td>\n",
       "    </tr>\n",
       "  </tbody>\n",
       "</table>\n",
       "</div>"
      ],
      "text/plain": [
       "                                                text  ...                                   labels\n",
       "0  info has been found  100 pages and 45 mb of pd...  ...                 [male, 15, student, leo]\n",
       "1  these are the team members   drewes van der la...  ...                 [male, 15, student, leo]\n",
       "2  in het kader van kernfusie op aarde  maak je e...  ...                 [male, 15, student, leo]\n",
       "3                                   testing  testing  ...                 [male, 15, student, leo]\n",
       "4  thanks to yahoos toolbar i can now capture the...  ...  [male, 33, investmentbanking, aquarius]\n",
       "\n",
       "[5 rows x 3 columns]"
      ]
     },
     "execution_count": 20,
     "metadata": {
      "tags": []
     },
     "output_type": "execute_result"
    }
   ],
   "source": [
    "df.head()"
   ]
  },
  {
   "cell_type": "markdown",
   "metadata": {
    "id": "Q8q8Of4GIXMU"
   },
   "source": [
    "This data is highly imbalanced. Lets create a dictionary to get label counts\n"
   ]
  },
  {
   "cell_type": "markdown",
   "metadata": {
    "id": "52vHX1xM-pkx"
   },
   "source": [
    "## **We create dictionary to get frequency count of the unique label data.**"
   ]
  },
  {
   "cell_type": "code",
   "execution_count": null,
   "metadata": {
    "id": "WGjj_5iw-c0L"
   },
   "outputs": [],
   "source": [
    "new_dict=dict()\n",
    "gender=[]\n",
    "age=[]\n",
    "occ=[]\n",
    "sign=[]"
   ]
  },
  {
   "cell_type": "code",
   "execution_count": null,
   "metadata": {
    "id": "L9vhJrGb-tb5"
   },
   "outputs": [],
   "source": [
    "for item in df['labels']:\n",
    "    i=0\n",
    "    for value in item:\n",
    "        if i==0:\n",
    "            gender.append(value)\n",
    "        if i==1:\n",
    "            age.append(value)\n",
    "        if i==2:\n",
    "            occ.append(value)\n",
    "        if i==3:\n",
    "            sign.append(value)\n",
    "        i+=1"
   ]
  },
  {
   "cell_type": "code",
   "execution_count": null,
   "metadata": {
    "id": "7w_68Y3J_KuS"
   },
   "outputs": [],
   "source": [
    "dict_age=Counter(age)\n",
    "dict_gender=Counter(gender)\n",
    "dict_occ=Counter(occ)\n",
    "dict_sign=Counter(sign)"
   ]
  },
  {
   "cell_type": "code",
   "execution_count": null,
   "metadata": {
    "colab": {
     "base_uri": "https://localhost:8080/"
    },
    "executionInfo": {
     "elapsed": 7,
     "status": "ok",
     "timestamp": 1625395241093,
     "user": {
      "displayName": "Ruchira S Dwivedi",
      "photoUrl": "",
      "userId": "08004570390284030604"
     },
     "user_tz": -330
    },
    "id": "hHT7pVAM_L-k",
    "outputId": "b80a8af7-11d1-4af6-ef4c-93a487a4e125"
   },
   "outputs": [
    {
     "data": {
      "text/plain": [
       "Counter({'female': 4084, 'male': 5916})"
      ]
     },
     "execution_count": 29,
     "metadata": {
      "tags": []
     },
     "output_type": "execute_result"
    }
   ],
   "source": [
    "dict_gender"
   ]
  },
  {
   "cell_type": "code",
   "execution_count": null,
   "metadata": {
    "colab": {
     "base_uri": "https://localhost:8080/"
    },
    "executionInfo": {
     "elapsed": 506,
     "status": "ok",
     "timestamp": 1625395245017,
     "user": {
      "displayName": "Ruchira S Dwivedi",
      "photoUrl": "",
      "userId": "08004570390284030604"
     },
     "user_tz": -330
    },
    "id": "BY4DQT6y_ZLy",
    "outputId": "b2ec1dc1-d208-47de-f5f2-69c18c5fc262"
   },
   "outputs": [
    {
     "data": {
      "text/plain": [
       "Counter({'accounting': 4,\n",
       "         'arts': 45,\n",
       "         'automotive': 14,\n",
       "         'banking': 16,\n",
       "         'businessservices': 91,\n",
       "         'communications-media': 99,\n",
       "         'consulting': 21,\n",
       "         'education': 270,\n",
       "         'engineering': 127,\n",
       "         'fashion': 1622,\n",
       "         'humanresources': 2,\n",
       "         'indunk': 3287,\n",
       "         'internet': 118,\n",
       "         'investmentbanking': 70,\n",
       "         'law': 11,\n",
       "         'lawenforcement-security': 10,\n",
       "         'marketing': 156,\n",
       "         'museums-libraries': 17,\n",
       "         'non-profit': 71,\n",
       "         'publishing': 4,\n",
       "         'religion': 9,\n",
       "         'science': 63,\n",
       "         'sports-recreation': 80,\n",
       "         'student': 1137,\n",
       "         'technology': 2654,\n",
       "         'telecommunications': 2})"
      ]
     },
     "execution_count": 30,
     "metadata": {
      "tags": []
     },
     "output_type": "execute_result"
    }
   ],
   "source": [
    "dict_occ"
   ]
  },
  {
   "cell_type": "code",
   "execution_count": null,
   "metadata": {
    "colab": {
     "base_uri": "https://localhost:8080/"
    },
    "executionInfo": {
     "elapsed": 5,
     "status": "ok",
     "timestamp": 1625395248624,
     "user": {
      "displayName": "Ruchira S Dwivedi",
      "photoUrl": "",
      "userId": "08004570390284030604"
     },
     "user_tz": -330
    },
    "id": "3oi3H1NmWHc3",
    "outputId": "491f44b0-5951-4a75-bdcd-e04c0de2159a"
   },
   "outputs": [
    {
     "data": {
      "text/plain": [
       "Counter({'aquarius': 571,\n",
       "         'aries': 4198,\n",
       "         'cancer': 504,\n",
       "         'capricorn': 215,\n",
       "         'gemini': 150,\n",
       "         'leo': 301,\n",
       "         'libra': 491,\n",
       "         'pisces': 454,\n",
       "         'sagittarius': 1097,\n",
       "         'scorpio': 971,\n",
       "         'taurus': 812,\n",
       "         'virgo': 236})"
      ]
     },
     "execution_count": 31,
     "metadata": {
      "tags": []
     },
     "output_type": "execute_result"
    }
   ],
   "source": [
    "dict_sign"
   ]
  },
  {
   "cell_type": "code",
   "execution_count": null,
   "metadata": {
    "id": "yPZhYHqO_kH5"
   },
   "outputs": [],
   "source": [
    "def merge_two_dicts(a, b, c, d):\n",
    "    z = a.copy()   # start with x's keys and values\n",
    "    z.update(b)    # modifies z with y's keys and values & returns None\n",
    "    z.update(c)\n",
    "    z.update(d)\n",
    "    return z"
   ]
  },
  {
   "cell_type": "code",
   "execution_count": null,
   "metadata": {
    "id": "TAdma4PU_1t5"
   },
   "outputs": [],
   "source": [
    "Final_dict=merge_two_dicts(dict_age, dict_gender, dict_occ, dict_sign)"
   ]
  },
  {
   "cell_type": "code",
   "execution_count": null,
   "metadata": {
    "colab": {
     "base_uri": "https://localhost:8080/"
    },
    "executionInfo": {
     "elapsed": 7,
     "status": "ok",
     "timestamp": 1625395257402,
     "user": {
      "displayName": "Ruchira S Dwivedi",
      "photoUrl": "",
      "userId": "08004570390284030604"
     },
     "user_tz": -330
    },
    "id": "tz-5X8qlWVo3",
    "outputId": "2d38c580-60ea-4768-ae09-117f1e1e5a6a"
   },
   "outputs": [
    {
     "data": {
      "text/plain": [
       "Counter({'13': 42,\n",
       "         '14': 212,\n",
       "         '15': 602,\n",
       "         '16': 440,\n",
       "         '17': 1185,\n",
       "         '23': 253,\n",
       "         '24': 655,\n",
       "         '25': 386,\n",
       "         '26': 234,\n",
       "         '27': 1054,\n",
       "         '33': 136,\n",
       "         '34': 553,\n",
       "         '35': 2315,\n",
       "         '36': 1708,\n",
       "         '37': 33,\n",
       "         '38': 46,\n",
       "         '39': 79,\n",
       "         '40': 1,\n",
       "         '41': 20,\n",
       "         '42': 14,\n",
       "         '43': 6,\n",
       "         '44': 3,\n",
       "         '45': 16,\n",
       "         '46': 7,\n",
       "         'accounting': 4,\n",
       "         'aquarius': 571,\n",
       "         'aries': 4198,\n",
       "         'arts': 45,\n",
       "         'automotive': 14,\n",
       "         'banking': 16,\n",
       "         'businessservices': 91,\n",
       "         'cancer': 504,\n",
       "         'capricorn': 215,\n",
       "         'communications-media': 99,\n",
       "         'consulting': 21,\n",
       "         'education': 270,\n",
       "         'engineering': 127,\n",
       "         'fashion': 1622,\n",
       "         'female': 4084,\n",
       "         'gemini': 150,\n",
       "         'humanresources': 2,\n",
       "         'indunk': 3287,\n",
       "         'internet': 118,\n",
       "         'investmentbanking': 70,\n",
       "         'law': 11,\n",
       "         'lawenforcement-security': 10,\n",
       "         'leo': 301,\n",
       "         'libra': 491,\n",
       "         'male': 5916,\n",
       "         'marketing': 156,\n",
       "         'museums-libraries': 17,\n",
       "         'non-profit': 71,\n",
       "         'pisces': 454,\n",
       "         'publishing': 4,\n",
       "         'religion': 9,\n",
       "         'sagittarius': 1097,\n",
       "         'science': 63,\n",
       "         'scorpio': 971,\n",
       "         'sports-recreation': 80,\n",
       "         'student': 1137,\n",
       "         'taurus': 812,\n",
       "         'technology': 2654,\n",
       "         'telecommunications': 2,\n",
       "         'virgo': 236})"
      ]
     },
     "execution_count": 34,
     "metadata": {
      "tags": []
     },
     "output_type": "execute_result"
    }
   ],
   "source": [
    "Final_dict"
   ]
  },
  {
   "cell_type": "markdown",
   "metadata": {
    "id": "Eg44nKiiWdyd"
   },
   "source": [
    "## **Step 2.3: Train and test split**"
   ]
  },
  {
   "cell_type": "code",
   "execution_count": 21,
   "metadata": {
    "executionInfo": {
     "elapsed": 352,
     "status": "ok",
     "timestamp": 1625406186277,
     "user": {
      "displayName": "Ruchira S Dwivedi",
      "photoUrl": "",
      "userId": "08004570390284030604"
     },
     "user_tz": -330
    },
    "id": "ra1VhKQR5Z38"
   },
   "outputs": [],
   "source": [
    "X=df['Processed_text']\n",
    "y=df['labels']"
   ]
  },
  {
   "cell_type": "code",
   "execution_count": null,
   "metadata": {
    "colab": {
     "base_uri": "https://localhost:8080/"
    },
    "executionInfo": {
     "elapsed": 6,
     "status": "ok",
     "timestamp": 1624896062010,
     "user": {
      "displayName": "Ruchira S Dwivedi",
      "photoUrl": "",
      "userId": "08004570390284030604"
     },
     "user_tz": -330
    },
    "id": "xPwWVLIn5iz1",
    "outputId": "d0d4cc79-6a2c-4276-b407-5b215507c676"
   },
   "outputs": [
    {
     "data": {
      "text/plain": [
       "0       info found 100 page 45 mb pdf file wait untill...\n",
       "1       team member drewes van der laag urllink mail r...\n",
       "2       het kader van kernfusie op aarde maak je eigen...\n",
       "3                                         testing testing\n",
       "4       thanks yahoo toolbar capture url popupswhich m...\n",
       "                              ...                        \n",
       "9995    take home forever may rest sleep arm forgotten...\n",
       "9996    seductive secretness behind door warning never...\n",
       "9997    kind need holding hand petting hair cry bring ...\n",
       "9998    blurry outside sound people mingle pas darknes...\n",
       "9999    body feel broken mind rejoices thought warmth ...\n",
       "Name: Processed_text, Length: 10000, dtype: object"
      ]
     },
     "execution_count": 51,
     "metadata": {
      "tags": []
     },
     "output_type": "execute_result"
    }
   ],
   "source": [
    "X"
   ]
  },
  {
   "cell_type": "code",
   "execution_count": null,
   "metadata": {
    "colab": {
     "base_uri": "https://localhost:8080/"
    },
    "executionInfo": {
     "elapsed": 492,
     "status": "ok",
     "timestamp": 1625395268934,
     "user": {
      "displayName": "Ruchira S Dwivedi",
      "photoUrl": "",
      "userId": "08004570390284030604"
     },
     "user_tz": -330
    },
    "id": "KFcH2VCo5i3U",
    "outputId": "0be1ee6d-a3bc-42a9-c46e-3eb46d96cb98"
   },
   "outputs": [
    {
     "data": {
      "text/plain": [
       "0                      [male, 15, student, leo]\n",
       "1                      [male, 15, student, leo]\n",
       "2                      [male, 15, student, leo]\n",
       "3                      [male, 15, student, leo]\n",
       "4       [male, 33, investmentbanking, aquarius]\n",
       "                         ...                   \n",
       "9995               [female, 25, indunk, pisces]\n",
       "9996               [female, 25, indunk, pisces]\n",
       "9997               [female, 25, indunk, pisces]\n",
       "9998               [female, 25, indunk, pisces]\n",
       "9999               [female, 25, indunk, pisces]\n",
       "Name: labels, Length: 10000, dtype: object"
      ]
     },
     "execution_count": 36,
     "metadata": {
      "tags": []
     },
     "output_type": "execute_result"
    }
   ],
   "source": [
    "y"
   ]
  },
  {
   "cell_type": "code",
   "execution_count": 22,
   "metadata": {
    "executionInfo": {
     "elapsed": 8,
     "status": "ok",
     "timestamp": 1625406189496,
     "user": {
      "displayName": "Ruchira S Dwivedi",
      "photoUrl": "",
      "userId": "08004570390284030604"
     },
     "user_tz": -330
    },
    "id": "l9pv7B-A5mH0"
   },
   "outputs": [],
   "source": [
    "X_train,X_test,y_train,y_test=train_test_split(X,y)"
   ]
  },
  {
   "cell_type": "code",
   "execution_count": null,
   "metadata": {
    "colab": {
     "base_uri": "https://localhost:8080/"
    },
    "executionInfo": {
     "elapsed": 467,
     "status": "ok",
     "timestamp": 1624896145832,
     "user": {
      "displayName": "Ruchira S Dwivedi",
      "photoUrl": "",
      "userId": "08004570390284030604"
     },
     "user_tz": -330
    },
    "id": "VtoIymZA_7dT",
    "outputId": "2a49dd65-05dc-4ff7-b75a-dfed4a37d044"
   },
   "outputs": [
    {
     "data": {
      "text/plain": [
       "631     think im good mood let workin week 9 5 money w...\n",
       "4478    day better think thing rough find someone else...\n",
       "9348    wellyankees lost __ pitiful oh wellthere alway...\n",
       "6520    personal drama died bit since last friday thou...\n",
       "78      ive fallen deep fast dont know know feel good ...\n",
       "Name: Processed_text, dtype: object"
      ]
     },
     "execution_count": 58,
     "metadata": {
      "tags": []
     },
     "output_type": "execute_result"
    }
   ],
   "source": [
    "X_train.sample(5)"
   ]
  },
  {
   "cell_type": "code",
   "execution_count": null,
   "metadata": {
    "colab": {
     "base_uri": "https://localhost:8080/"
    },
    "executionInfo": {
     "elapsed": 400,
     "status": "ok",
     "timestamp": 1624896156308,
     "user": {
      "displayName": "Ruchira S Dwivedi",
      "photoUrl": "",
      "userId": "08004570390284030604"
     },
     "user_tz": -330
    },
    "id": "55XuK93o_7g0",
    "outputId": "f1a1f39a-ad68-4f0d-875a-9b23d97b282b"
   },
   "outputs": [
    {
     "data": {
      "text/plain": [
       "9080    little green hill could see nothing pain dark ...\n",
       "3013    yethes havin rely ol angie mcmoneybags meal sa...\n",
       "974     case anyone wondering one probably read anyway...\n",
       "9912    mind creates world found quote buddha looking ...\n",
       "3475    thought might enjoy urllink alien language con...\n",
       "Name: Processed_text, dtype: object"
      ]
     },
     "execution_count": 59,
     "metadata": {
      "tags": []
     },
     "output_type": "execute_result"
    }
   ],
   "source": [
    "X_test.sample(5)"
   ]
  },
  {
   "cell_type": "markdown",
   "metadata": {
    "id": "bOFMZmSJWqVF"
   },
   "source": [
    "## **Step 2.4: Vectorisation**"
   ]
  },
  {
   "cell_type": "code",
   "execution_count": 23,
   "metadata": {
    "executionInfo": {
     "elapsed": 4,
     "status": "ok",
     "timestamp": 1625406192372,
     "user": {
      "displayName": "Ruchira S Dwivedi",
      "photoUrl": "",
      "userId": "08004570390284030604"
     },
     "user_tz": -330
    },
    "id": "PJAFZrI-5vV3"
   },
   "outputs": [],
   "source": [
    "vect=CountVectorizer(ngram_range=(1,2))\n",
    "#vect=TfidfVectorizer(n_gram_range=(1,2))"
   ]
  },
  {
   "cell_type": "code",
   "execution_count": 24,
   "metadata": {
    "executionInfo": {
     "elapsed": 2373,
     "status": "ok",
     "timestamp": 1625406196223,
     "user": {
      "displayName": "Ruchira S Dwivedi",
      "photoUrl": "",
      "userId": "08004570390284030604"
     },
     "user_tz": -330
    },
    "id": "fcDZyO3s5vZQ"
   },
   "outputs": [],
   "source": [
    "X_train_dtm=vect.fit_transform(X_train)"
   ]
  },
  {
   "cell_type": "code",
   "execution_count": 25,
   "metadata": {
    "executionInfo": {
     "elapsed": 351,
     "status": "ok",
     "timestamp": 1625406196570,
     "user": {
      "displayName": "Ruchira S Dwivedi",
      "photoUrl": "",
      "userId": "08004570390284030604"
     },
     "user_tz": -330
    },
    "id": "YaeMx6-T5vdF"
   },
   "outputs": [],
   "source": [
    "X_test_dtm=vect.transform(X_test)"
   ]
  },
  {
   "cell_type": "code",
   "execution_count": 26,
   "metadata": {
    "colab": {
     "base_uri": "https://localhost:8080/"
    },
    "executionInfo": {
     "elapsed": 14,
     "status": "ok",
     "timestamp": 1625406196571,
     "user": {
      "displayName": "Ruchira S Dwivedi",
      "photoUrl": "",
      "userId": "08004570390284030604"
     },
     "user_tz": -330
    },
    "id": "cBH7Cr-JABvK",
    "outputId": "6b6da265-d406-474a-bb16-485c7ef08295"
   },
   "outputs": [
    {
     "data": {
      "text/plain": [
       "(7500, 520302)"
      ]
     },
     "execution_count": 26,
     "metadata": {
      "tags": []
     },
     "output_type": "execute_result"
    }
   ],
   "source": [
    "X_train_dtm.shape"
   ]
  },
  {
   "cell_type": "code",
   "execution_count": 27,
   "metadata": {
    "colab": {
     "base_uri": "https://localhost:8080/"
    },
    "executionInfo": {
     "elapsed": 11,
     "status": "ok",
     "timestamp": 1625406196572,
     "user": {
      "displayName": "Ruchira S Dwivedi",
      "photoUrl": "",
      "userId": "08004570390284030604"
     },
     "user_tz": -330
    },
    "id": "r4hAIJdyAWZP",
    "outputId": "a35b0c60-90bc-4cb7-efdb-e78badc1a83b"
   },
   "outputs": [
    {
     "data": {
      "text/plain": [
       "(2500, 520302)"
      ]
     },
     "execution_count": 27,
     "metadata": {
      "tags": []
     },
     "output_type": "execute_result"
    }
   ],
   "source": [
    "X_test_dtm.shape"
   ]
  },
  {
   "cell_type": "markdown",
   "metadata": {
    "id": "QVP3ngdpApbH"
   },
   "source": [
    "## **Implementing MultiLabelBinarizer to create binary labels from the list in the labels dataset**"
   ]
  },
  {
   "cell_type": "code",
   "execution_count": null,
   "metadata": {
    "colab": {
     "base_uri": "https://localhost:8080/"
    },
    "executionInfo": {
     "elapsed": 7,
     "status": "ok",
     "timestamp": 1625395296734,
     "user": {
      "displayName": "Ruchira S Dwivedi",
      "photoUrl": "",
      "userId": "08004570390284030604"
     },
     "user_tz": -330
    },
    "id": "U-NQ2iiUAWh0",
    "outputId": "5c48f2fc-3971-4243-ba8a-dd44fec06e96"
   },
   "outputs": [
    {
     "data": {
      "text/plain": [
       "5624             [female, 27, indunk, taurus]\n",
       "2301            [male, 35, technology, aries]\n",
       "3959    [female, 25, businessservices, aries]\n",
       "9838     [female, 23, museums-libraries, leo]\n",
       "6040             [female, 27, indunk, taurus]\n",
       "                        ...                  \n",
       "3063            [male, 35, technology, aries]\n",
       "5799             [female, 27, indunk, taurus]\n",
       "3942             [female, 35, indunk, gemini]\n",
       "8035            [female, 15, student, pisces]\n",
       "4323        [female, 34, indunk, sagittarius]\n",
       "Name: labels, Length: 7500, dtype: object"
      ]
     },
     "execution_count": 43,
     "metadata": {
      "tags": []
     },
     "output_type": "execute_result"
    }
   ],
   "source": [
    "y_train"
   ]
  },
  {
   "cell_type": "code",
   "execution_count": 28,
   "metadata": {
    "executionInfo": {
     "elapsed": 5,
     "status": "ok",
     "timestamp": 1625406200076,
     "user": {
      "displayName": "Ruchira S Dwivedi",
      "photoUrl": "",
      "userId": "08004570390284030604"
     },
     "user_tz": -330
    },
    "id": "HXzjOykTAoHe"
   },
   "outputs": [],
   "source": [
    "mlb=MultiLabelBinarizer()\n",
    "y_train_mlb=mlb.fit_transform(y_train)\n",
    "y_test_mlb=mlb.transform(y_test)"
   ]
  },
  {
   "cell_type": "code",
   "execution_count": 29,
   "metadata": {
    "colab": {
     "base_uri": "https://localhost:8080/"
    },
    "executionInfo": {
     "elapsed": 8,
     "status": "ok",
     "timestamp": 1625406203403,
     "user": {
      "displayName": "Ruchira S Dwivedi",
      "photoUrl": "",
      "userId": "08004570390284030604"
     },
     "user_tz": -330
    },
    "id": "V8k6WSgbA1aT",
    "outputId": "4d3d7da6-0bab-42e0-c514-2a53ddd4d816"
   },
   "outputs": [
    {
     "data": {
      "text/plain": [
       "array([[0, 0, 0, ..., 0, 0, 0],\n",
       "       [0, 0, 0, ..., 1, 0, 0],\n",
       "       [0, 0, 0, ..., 0, 0, 0],\n",
       "       ...,\n",
       "       [0, 0, 0, ..., 0, 0, 0],\n",
       "       [0, 0, 0, ..., 0, 0, 0],\n",
       "       [0, 0, 0, ..., 0, 0, 0]])"
      ]
     },
     "execution_count": 29,
     "metadata": {
      "tags": []
     },
     "output_type": "execute_result"
    }
   ],
   "source": [
    "y_train_mlb"
   ]
  },
  {
   "cell_type": "code",
   "execution_count": null,
   "metadata": {
    "colab": {
     "base_uri": "https://localhost:8080/"
    },
    "executionInfo": {
     "elapsed": 7,
     "status": "ok",
     "timestamp": 1625395308021,
     "user": {
      "displayName": "Ruchira S Dwivedi",
      "photoUrl": "",
      "userId": "08004570390284030604"
     },
     "user_tz": -330
    },
    "id": "XQHL0RvPfykj",
    "outputId": "a0623856-f79a-4297-82e8-aaea1fa878c2"
   },
   "outputs": [
    {
     "data": {
      "text/plain": [
       "(7500, 64)"
      ]
     },
     "execution_count": 46,
     "metadata": {
      "tags": []
     },
     "output_type": "execute_result"
    }
   ],
   "source": [
    "y_train_mlb.shape"
   ]
  },
  {
   "cell_type": "markdown",
   "metadata": {
    "id": "Y8AZ3EVyB3pu"
   },
   "source": [
    "## **Below are the unique labels in the labels features in 10000 dataset**"
   ]
  },
  {
   "cell_type": "code",
   "execution_count": null,
   "metadata": {
    "colab": {
     "base_uri": "https://localhost:8080/"
    },
    "executionInfo": {
     "elapsed": 727,
     "status": "ok",
     "timestamp": 1625395374925,
     "user": {
      "displayName": "Ruchira S Dwivedi",
      "photoUrl": "",
      "userId": "08004570390284030604"
     },
     "user_tz": -330
    },
    "id": "0_9mbptLA2-W",
    "outputId": "e7eb428e-47ae-47b4-fa83-30f7169d8b87"
   },
   "outputs": [
    {
     "data": {
      "text/plain": [
       "array(['13', '14', '15', '16', '17', '23', '24', '25', '26', '27', '33',\n",
       "       '34', '35', '36', '37', '38', '39', '40', '41', '42', '43', '44',\n",
       "       '45', '46', 'accounting', 'aquarius', 'aries', 'arts',\n",
       "       'automotive', 'banking', 'businessservices', 'cancer', 'capricorn',\n",
       "       'communications-media', 'consulting', 'education', 'engineering',\n",
       "       'fashion', 'female', 'gemini', 'humanresources', 'indunk',\n",
       "       'internet', 'investmentbanking', 'law', 'lawenforcement-security',\n",
       "       'leo', 'libra', 'male', 'marketing', 'museums-libraries',\n",
       "       'non-profit', 'pisces', 'publishing', 'religion', 'sagittarius',\n",
       "       'science', 'scorpio', 'sports-recreation', 'student', 'taurus',\n",
       "       'technology', 'telecommunications', 'virgo'], dtype=object)"
      ]
     },
     "execution_count": 47,
     "metadata": {
      "tags": []
     },
     "output_type": "execute_result"
    }
   ],
   "source": [
    "mlb.classes_"
   ]
  },
  {
   "cell_type": "code",
   "execution_count": null,
   "metadata": {
    "colab": {
     "base_uri": "https://localhost:8080/"
    },
    "executionInfo": {
     "elapsed": 526,
     "status": "ok",
     "timestamp": 1625395378883,
     "user": {
      "displayName": "Ruchira S Dwivedi",
      "photoUrl": "",
      "userId": "08004570390284030604"
     },
     "user_tz": -330
    },
    "id": "kH0nqLZ3EX75",
    "outputId": "d8e09ce9-b9b0-4741-f723-23b320c8e1db"
   },
   "outputs": [
    {
     "data": {
      "text/plain": [
       "(7500, 519735)"
      ]
     },
     "execution_count": 48,
     "metadata": {
      "tags": []
     },
     "output_type": "execute_result"
    }
   ],
   "source": [
    "X_train_dtm.shape"
   ]
  },
  {
   "cell_type": "code",
   "execution_count": null,
   "metadata": {
    "colab": {
     "base_uri": "https://localhost:8080/"
    },
    "executionInfo": {
     "elapsed": 6,
     "status": "ok",
     "timestamp": 1625395380205,
     "user": {
      "displayName": "Ruchira S Dwivedi",
      "photoUrl": "",
      "userId": "08004570390284030604"
     },
     "user_tz": -330
    },
    "id": "KJDGy9ckEd_Y",
    "outputId": "3944c561-475a-4d2c-8c02-1aec94597e8e"
   },
   "outputs": [
    {
     "data": {
      "text/plain": [
       "(7500, 64)"
      ]
     },
     "execution_count": 49,
     "metadata": {
      "tags": []
     },
     "output_type": "execute_result"
    }
   ],
   "source": [
    "y_train_mlb.shape"
   ]
  },
  {
   "cell_type": "markdown",
   "metadata": {
    "id": "ftiX5f-XkWsx"
   },
   "source": [
    "## **Step 3 :Design, train, tune and test the best text classifier.**"
   ]
  },
  {
   "cell_type": "code",
   "execution_count": 30,
   "metadata": {
    "executionInfo": {
     "elapsed": 329,
     "status": "ok",
     "timestamp": 1625406209055,
     "user": {
      "displayName": "Ruchira S Dwivedi",
      "photoUrl": "",
      "userId": "08004570390284030604"
     },
     "user_tz": -330
    },
    "id": "gjnP7l0VCrzj"
   },
   "outputs": [],
   "source": [
    "from sklearn.linear_model import LogisticRegression\n",
    "from sklearn.metrics import accuracy_score,classification_report,confusion_matrix,recall_score,precision_score,f1_score"
   ]
  },
  {
   "cell_type": "markdown",
   "metadata": {
    "id": "ySMyS_6tFd-S"
   },
   "source": [
    "We will use the OneVsRestClassifier.Also known as one-vs-all, this strategy consists in fitting one classifier per class"
   ]
  },
  {
   "cell_type": "code",
   "execution_count": null,
   "metadata": {
    "id": "Suolh4R4GAfA"
   },
   "outputs": [],
   "source": [
    "LogReg_pipeline=Pipeline([('clf',OneVsRestClassifier(LogisticRegression(solver='lbfgs')))])"
   ]
  },
  {
   "cell_type": "markdown",
   "metadata": {
    "id": "2BEtlDWklJcr"
   },
   "source": [
    "We have tried to tune the model for different values of hyperparameters like solver :‘newton-cg’, ‘saga’ and ‘lbfgs’and C:Inverse of regularization strength.\n",
    "However, Below hyperparameter values give the best results"
   ]
  },
  {
   "cell_type": "code",
   "execution_count": null,
   "metadata": {
    "colab": {
     "base_uri": "https://localhost:8080/"
    },
    "executionInfo": {
     "elapsed": 486720,
     "status": "ok",
     "timestamp": 1625396448448,
     "user": {
      "displayName": "Ruchira S Dwivedi",
      "photoUrl": "",
      "userId": "08004570390284030604"
     },
     "user_tz": -330
    },
    "id": "KjikE9CtGIWT",
    "outputId": "c3448e49-b3da-4282-c987-8fa04427619f"
   },
   "outputs": [
    {
     "data": {
      "text/plain": [
       "Pipeline(memory=None,\n",
       "         steps=[('clf',\n",
       "                 OneVsRestClassifier(estimator=LogisticRegression(C=1.0,\n",
       "                                                                  class_weight=None,\n",
       "                                                                  dual=False,\n",
       "                                                                  fit_intercept=True,\n",
       "                                                                  intercept_scaling=1,\n",
       "                                                                  l1_ratio=None,\n",
       "                                                                  max_iter=100,\n",
       "                                                                  multi_class='auto',\n",
       "                                                                  n_jobs=None,\n",
       "                                                                  penalty='l2',\n",
       "                                                                  random_state=None,\n",
       "                                                                  solver='lbfgs',\n",
       "                                                                  tol=0.0001,\n",
       "                                                                  verbose=0,\n",
       "                                                                  warm_start=False),\n",
       "                                     n_jobs=None))],\n",
       "         verbose=False)"
      ]
     },
     "execution_count": 54,
     "metadata": {
      "tags": []
     },
     "output_type": "execute_result"
    }
   ],
   "source": [
    "LogReg_pipeline.fit(X_train_dtm,y_train_mlb)"
   ]
  },
  {
   "cell_type": "code",
   "execution_count": null,
   "metadata": {
    "id": "BGSJuhsvGLCl"
   },
   "outputs": [],
   "source": [
    "prediction = LogReg_pipeline.predict(X_test_dtm)"
   ]
  },
  {
   "cell_type": "code",
   "execution_count": null,
   "metadata": {
    "colab": {
     "base_uri": "https://localhost:8080/"
    },
    "executionInfo": {
     "elapsed": 3,
     "status": "ok",
     "timestamp": 1625396462354,
     "user": {
      "displayName": "Ruchira S Dwivedi",
      "photoUrl": "",
      "userId": "08004570390284030604"
     },
     "user_tz": -330
    },
    "id": "NMRt6tgAGsD_",
    "outputId": "5e8585a7-490a-4777-af8a-21840b3a1a56"
   },
   "outputs": [
    {
     "data": {
      "text/plain": [
       "0.306"
      ]
     },
     "execution_count": 56,
     "metadata": {
      "tags": []
     },
     "output_type": "execute_result"
    }
   ],
   "source": [
    "accuracy_score(y_test_mlb,prediction)"
   ]
  },
  {
   "cell_type": "code",
   "execution_count": null,
   "metadata": {
    "colab": {
     "base_uri": "https://localhost:8080/"
    },
    "executionInfo": {
     "elapsed": 382,
     "status": "ok",
     "timestamp": 1624897857709,
     "user": {
      "displayName": "Ruchira S Dwivedi",
      "photoUrl": "",
      "userId": "08004570390284030604"
     },
     "user_tz": -330
    },
    "id": "1I6raI8hGsGr",
    "outputId": "8d628b4e-01f6-4053-ac18-b0bef3b64c2a"
   },
   "outputs": [
    {
     "data": {
      "text/plain": [
       "[('16', 'cancer', 'indunk', 'male'),\n",
       " ('35', 'aries', 'male', 'technology'),\n",
       " ('36', 'aries', 'fashion', 'male'),\n",
       " ('35', 'aries', 'male', 'technology'),\n",
       " ('34', 'female', 'indunk', 'sagittarius')]"
      ]
     },
     "execution_count": 77,
     "metadata": {
      "tags": []
     },
     "output_type": "execute_result"
    }
   ],
   "source": [
    "#  Printing inverse data from the predicted labels\n",
    "mlb.inverse_transform(prediction[0:5,])"
   ]
  },
  {
   "cell_type": "code",
   "execution_count": null,
   "metadata": {
    "colab": {
     "base_uri": "https://localhost:8080/"
    },
    "executionInfo": {
     "elapsed": 400,
     "status": "ok",
     "timestamp": 1624897862697,
     "user": {
      "displayName": "Ruchira S Dwivedi",
      "photoUrl": "",
      "userId": "08004570390284030604"
     },
     "user_tz": -330
    },
    "id": "Y6U7GfoTGsJP",
    "outputId": "0d8c503b-7ebc-4dcd-d862-4c15f7a1334b"
   },
   "outputs": [
    {
     "data": {
      "text/plain": [
       "9467           [male, 16, indunk, cancer]\n",
       "3228        [male, 35, technology, aries]\n",
       "6518           [male, 36, fashion, aries]\n",
       "9912           [male, 23, student, aries]\n",
       "4430    [female, 34, indunk, sagittarius]\n",
       "Name: labels, dtype: object"
      ]
     },
     "execution_count": 78,
     "metadata": {
      "tags": []
     },
     "output_type": "execute_result"
    }
   ],
   "source": [
    "y_test.head(5)"
   ]
  },
  {
   "cell_type": "code",
   "execution_count": null,
   "metadata": {
    "colab": {
     "base_uri": "https://localhost:8080/"
    },
    "executionInfo": {
     "elapsed": 431,
     "status": "ok",
     "timestamp": 1624897928969,
     "user": {
      "displayName": "Ruchira S Dwivedi",
      "photoUrl": "",
      "userId": "08004570390284030604"
     },
     "user_tz": -330
    },
    "id": "GMlbuZb_GsMM",
    "outputId": "7780a715-653c-4bcb-a3e8-6e26afbb3b76"
   },
   "outputs": [
    {
     "data": {
      "text/plain": [
       "0.5348139255702281"
      ]
     },
     "execution_count": 79,
     "metadata": {
      "tags": []
     },
     "output_type": "execute_result"
    }
   ],
   "source": [
    "recall_score(y_test_mlb,prediction,average='micro')"
   ]
  },
  {
   "cell_type": "code",
   "execution_count": null,
   "metadata": {
    "colab": {
     "base_uri": "https://localhost:8080/"
    },
    "executionInfo": {
     "elapsed": 5,
     "status": "ok",
     "timestamp": 1624897931181,
     "user": {
      "displayName": "Ruchira S Dwivedi",
      "photoUrl": "",
      "userId": "08004570390284030604"
     },
     "user_tz": -330
    },
    "id": "k0l2PSo3HGE0",
    "outputId": "acef4bdc-6bbb-4534-d123-c158366566a1"
   },
   "outputs": [
    {
     "data": {
      "text/plain": [
       "0.1926537265498123"
      ]
     },
     "execution_count": 80,
     "metadata": {
      "tags": []
     },
     "output_type": "execute_result"
    }
   ],
   "source": [
    "recall_score(y_test_mlb,prediction,average='macro')"
   ]
  },
  {
   "cell_type": "code",
   "execution_count": null,
   "metadata": {
    "colab": {
     "base_uri": "https://localhost:8080/"
    },
    "executionInfo": {
     "elapsed": 488,
     "status": "ok",
     "timestamp": 1624897941644,
     "user": {
      "displayName": "Ruchira S Dwivedi",
      "photoUrl": "",
      "userId": "08004570390284030604"
     },
     "user_tz": -330
    },
    "id": "Vf6fvxUfHGHr",
    "outputId": "ab7dd2ae-151e-443a-86fb-a97d65d2e49a"
   },
   "outputs": [
    {
     "data": {
      "text/plain": [
       "0.7687661777394306"
      ]
     },
     "execution_count": 81,
     "metadata": {
      "tags": []
     },
     "output_type": "execute_result"
    }
   ],
   "source": [
    "precision_score(y_test_mlb,prediction,average='micro')"
   ]
  },
  {
   "cell_type": "code",
   "execution_count": null,
   "metadata": {
    "colab": {
     "base_uri": "https://localhost:8080/"
    },
    "executionInfo": {
     "elapsed": 5,
     "status": "ok",
     "timestamp": 1624897944089,
     "user": {
      "displayName": "Ruchira S Dwivedi",
      "photoUrl": "",
      "userId": "08004570390284030604"
     },
     "user_tz": -330
    },
    "id": "W0itu2arHGLO",
    "outputId": "12b30f97-3f05-405d-9da6-7a5333b52f0c"
   },
   "outputs": [
    {
     "data": {
      "text/plain": [
       "0.5084594401012175"
      ]
     },
     "execution_count": 82,
     "metadata": {
      "tags": []
     },
     "output_type": "execute_result"
    }
   ],
   "source": [
    "precision_score(y_test_mlb,prediction,average='macro')"
   ]
  },
  {
   "cell_type": "code",
   "execution_count": null,
   "metadata": {
    "colab": {
     "base_uri": "https://localhost:8080/"
    },
    "executionInfo": {
     "elapsed": 410,
     "status": "ok",
     "timestamp": 1624897947979,
     "user": {
      "displayName": "Ruchira S Dwivedi",
      "photoUrl": "",
      "userId": "08004570390284030604"
     },
     "user_tz": -330
    },
    "id": "AWfrAjdwHOru",
    "outputId": "4516362d-3615-494f-c6f0-ad2395e53a25"
   },
   "outputs": [
    {
     "data": {
      "text/plain": [
       "0.6307964601769911"
      ]
     },
     "execution_count": 83,
     "metadata": {
      "tags": []
     },
     "output_type": "execute_result"
    }
   ],
   "source": [
    "f1_score(y_test_mlb,prediction,average='micro')"
   ]
  },
  {
   "cell_type": "code",
   "execution_count": null,
   "metadata": {
    "colab": {
     "base_uri": "https://localhost:8080/"
    },
    "executionInfo": {
     "elapsed": 518,
     "status": "ok",
     "timestamp": 1624897950445,
     "user": {
      "displayName": "Ruchira S Dwivedi",
      "photoUrl": "",
      "userId": "08004570390284030604"
     },
     "user_tz": -330
    },
    "id": "SCDVhSc8HOxv",
    "outputId": "edf20efa-a1ca-411b-b69b-a7bffbf73df0"
   },
   "outputs": [
    {
     "data": {
      "text/plain": [
       "0.25431032319561747"
      ]
     },
     "execution_count": 84,
     "metadata": {
      "tags": []
     },
     "output_type": "execute_result"
    }
   ],
   "source": [
    "f1_score(y_test_mlb,prediction,average='macro')"
   ]
  },
  {
   "cell_type": "markdown",
   "metadata": {
    "id": "nlel_Vhej_m7"
   },
   "source": [
    "## **Step 4: Display and explain detail the classification report**"
   ]
  },
  {
   "cell_type": "code",
   "execution_count": null,
   "metadata": {
    "colab": {
     "base_uri": "https://localhost:8080/"
    },
    "executionInfo": {
     "elapsed": 380,
     "status": "ok",
     "timestamp": 1624897955136,
     "user": {
      "displayName": "Ruchira S Dwivedi",
      "photoUrl": "",
      "userId": "08004570390284030604"
     },
     "user_tz": -330
    },
    "id": "bkdhwDifHR0R",
    "outputId": "85197a78-62db-4b3b-8714-274f819e3e30"
   },
   "outputs": [
    {
     "name": "stdout",
     "output_type": "stream",
     "text": [
      "              precision    recall  f1-score   support\n",
      "\n",
      "           0       1.00      0.15      0.27        13\n",
      "           1       1.00      0.13      0.23        54\n",
      "           2       0.65      0.21      0.32       142\n",
      "           3       0.71      0.17      0.27       121\n",
      "           4       0.74      0.29      0.42       299\n",
      "           5       0.00      0.00      0.00        66\n",
      "           6       0.54      0.09      0.16       149\n",
      "           7       0.67      0.12      0.20        84\n",
      "           8       0.75      0.05      0.10        59\n",
      "           9       0.75      0.33      0.46       245\n",
      "          10       1.00      0.27      0.43        37\n",
      "          11       0.97      0.63      0.76       124\n",
      "          12       0.68      0.65      0.66       603\n",
      "          13       0.91      0.51      0.65       452\n",
      "          14       0.00      0.00      0.00        12\n",
      "          15       0.50      0.11      0.18         9\n",
      "          16       0.50      0.12      0.20        16\n",
      "          17       0.00      0.00      0.00         0\n",
      "          18       0.00      0.00      0.00         6\n",
      "          19       0.00      0.00      0.00         1\n",
      "          20       0.00      0.00      0.00         0\n",
      "          21       0.00      0.00      0.00         0\n",
      "          22       0.00      0.00      0.00         5\n",
      "          23       0.00      0.00      0.00         3\n",
      "          24       0.74      0.20      0.32       142\n",
      "          25       0.76      0.81      0.78      1088\n",
      "          26       0.00      0.00      0.00        10\n",
      "          27       0.00      0.00      0.00         3\n",
      "          28       0.00      0.00      0.00         3\n",
      "          29       1.00      0.09      0.16        23\n",
      "          30       0.80      0.28      0.41       134\n",
      "          31       0.60      0.18      0.28        50\n",
      "          32       1.00      0.09      0.16        23\n",
      "          33       0.00      0.00      0.00         4\n",
      "          34       0.57      0.07      0.12        60\n",
      "          35       0.71      0.16      0.26        31\n",
      "          36       0.92      0.51      0.65       428\n",
      "          37       0.80      0.65      0.71       989\n",
      "          38       0.00      0.00      0.00        36\n",
      "          39       0.00      0.00      0.00         1\n",
      "          40       0.74      0.49      0.59       808\n",
      "          41       0.50      0.04      0.07        25\n",
      "          42       1.00      0.43      0.60        21\n",
      "          43       0.00      0.00      0.00         4\n",
      "          44       0.00      0.00      0.00         4\n",
      "          45       0.67      0.03      0.06        63\n",
      "          46       0.73      0.15      0.24       131\n",
      "          47       0.79      0.89      0.84      1511\n",
      "          48       0.88      0.48      0.62        31\n",
      "          49       0.00      0.00      0.00         2\n",
      "          50       0.00      0.00      0.00        18\n",
      "          51       0.81      0.26      0.39       111\n",
      "          52       0.00      0.00      0.00         2\n",
      "          53       0.00      0.00      0.00         1\n",
      "          54       0.84      0.37      0.52       259\n",
      "          55       1.00      0.12      0.22        16\n",
      "          56       0.78      0.23      0.36       233\n",
      "          57       1.00      0.39      0.56        18\n",
      "          58       0.65      0.30      0.41       277\n",
      "          59       0.66      0.24      0.35       205\n",
      "          60       0.70      0.64      0.67       682\n",
      "          61       0.00      0.00      0.00         1\n",
      "          62       1.00      0.21      0.34        48\n",
      "\n",
      "   micro avg       0.77      0.53      0.63      9996\n",
      "   macro avg       0.51      0.19      0.25      9996\n",
      "weighted avg       0.75      0.53      0.59      9996\n",
      " samples avg       0.74      0.53      0.59      9996\n",
      "\n"
     ]
    }
   ],
   "source": [
    "print(classification_report(y_test_mlb,prediction))"
   ]
  },
  {
   "cell_type": "markdown",
   "metadata": {
    "id": "Rz4x-TZ_f8_Y"
   },
   "source": [
    "We see that y_train has 64 classes as follows:\n",
    " ['13', '14', '15', '16', '17', '23', '24', '25', '26', '27', '33',\n",
    "       '34', '35', '36', '37', '38', '39', '40', '41', '42', '43', '44',\n",
    "       '45', '46', 'aquarius', 'aries', 'arts', 'automotive', 'banking',\n",
    "       'businessservices', 'cancer', 'capricorn', 'communications-media',\n",
    "       'consulting', 'education', 'engineering', 'fashion', 'female',\n",
    "       'gemini', 'humanresources', 'indunk', 'internet',\n",
    "       'investmentbanking', 'law', 'lawenforcement-security', 'leo',\n",
    "       'libra', 'male', 'marketing', 'museums-libraries', 'non-profit',\n",
    "       'pisces', 'publishing', 'religion', 'sagittarius', 'science',\n",
    "       'scorpio', 'sports-recreation', 'student', 'taurus', 'technology',\n",
    "       'telecommunications', 'virgo']"
   ]
  },
  {
   "cell_type": "markdown",
   "metadata": {
    "id": "UzeHVpbZgJXP"
   },
   "source": [
    "Classification report gives Precision,Recall ,f1-score and support for each of these classes separately.\n",
    "\n",
    "\n",
    "*   We see that Precision for some classes like Age-13,14,Virgo,Sports-Recreation is 100% while some classes like telecommunications,religion is 0%. Mostly classes have a high precision greater than 50%. It means that from the total predictions our model has made, approx 50% are correct.\n",
    "*   Recall for most classes is low. Some classes  like telecommunications,religion,publishing have 0% recall.So, from actual positive classes, Our model was able to find less than 50% of them.\n",
    "\n",
    "\n",
    "*   Upon closer inspection we see that few classes have both recall and precision 0%. Hence their f1-score is also 0. These are the minority classes in our dataset.\n",
    "* Also, their support values is very low - a single digit number.\n",
    "*   Our data was highly imbalanced. Hence the model was biased in predicting the majority classes correctly. The minority classes were under-represented and could not be correclty predicted by our model. Such classes have both Recall and precion as 0.\n",
    "* But the classes having higher support, have good precision values. Classes having very high support(>600), the majority classes, have good recall as well.\n",
    "\n",
    "*   f1-score is the harmonic mean of recall and precion and gives values accordingly.\n",
    "\n",
    "\n",
    "\n",
    "\n",
    "\n",
    "\n",
    "\n",
    "\n",
    "\n"
   ]
  },
  {
   "cell_type": "markdown",
   "metadata": {},
   "source": [
    "### Support is the number of actual occurrences of the class in the specified dataset. Imbalanced support in the training data may indicate structural weaknesses in the reported scores of the classifier and could indicate the need for stratified sampling or rebalancing."
   ]
  },
  {
   "cell_type": "markdown",
   "metadata": {
    "id": "VuO5Mqk1HcIl"
   },
   "source": [
    "# **Step 5: Print the true vs predicted labels for any 5 entries from the dataset.**"
   ]
  },
  {
   "cell_type": "code",
   "execution_count": null,
   "metadata": {
    "colab": {
     "base_uri": "https://localhost:8080/"
    },
    "executionInfo": {
     "elapsed": 467,
     "status": "ok",
     "timestamp": 1624898126370,
     "user": {
      "displayName": "Ruchira S Dwivedi",
      "photoUrl": "",
      "userId": "08004570390284030604"
     },
     "user_tz": -330
    },
    "id": "2Y0uaInmHcVz",
    "outputId": "4268d759-65c0-432c-aac2-ad4290ba679e"
   },
   "outputs": [
    {
     "data": {
      "text/plain": [
       "[('16', 'cancer', 'indunk', 'male'),\n",
       " ('35', 'aries', 'male', 'technology'),\n",
       " ('36', 'aries', 'fashion', 'male'),\n",
       " ('35', 'aries', 'male', 'technology'),\n",
       " ('34', 'female', 'indunk', 'sagittarius')]"
      ]
     },
     "execution_count": 94,
     "metadata": {
      "tags": []
     },
     "output_type": "execute_result"
    }
   ],
   "source": [
    "mlb.inverse_transform(prediction[0:5])"
   ]
  },
  {
   "cell_type": "code",
   "execution_count": null,
   "metadata": {
    "colab": {
     "base_uri": "https://localhost:8080/"
    },
    "executionInfo": {
     "elapsed": 387,
     "status": "ok",
     "timestamp": 1624898133272,
     "user": {
      "displayName": "Ruchira S Dwivedi",
      "photoUrl": "",
      "userId": "08004570390284030604"
     },
     "user_tz": -330
    },
    "id": "6Q4MbFkiHczI",
    "outputId": "6dcd2073-f7de-4676-d1ec-f71b578a9e49"
   },
   "outputs": [
    {
     "data": {
      "text/plain": [
       "9467           [male, 16, indunk, cancer]\n",
       "3228        [male, 35, technology, aries]\n",
       "6518           [male, 36, fashion, aries]\n",
       "9912           [male, 23, student, aries]\n",
       "4430    [female, 34, indunk, sagittarius]\n",
       "Name: labels, dtype: object"
      ]
     },
     "execution_count": 95,
     "metadata": {
      "tags": []
     },
     "output_type": "execute_result"
    }
   ],
   "source": [
    "y_test[0:5]"
   ]
  },
  {
   "cell_type": "markdown",
   "metadata": {
    "id": "D9KNWKapNPiI"
   },
   "source": [
    "## **Decision Tree Classifier**"
   ]
  },
  {
   "cell_type": "code",
   "execution_count": 31,
   "metadata": {
    "executionInfo": {
     "elapsed": 322,
     "status": "ok",
     "timestamp": 1625406292454,
     "user": {
      "displayName": "Ruchira S Dwivedi",
      "photoUrl": "",
      "userId": "08004570390284030604"
     },
     "user_tz": -330
    },
    "id": "hdWK2OpqMW89"
   },
   "outputs": [],
   "source": [
    "from sklearn import tree\n",
    "\n",
    "DT_model= tree.DecisionTreeClassifier(random_state=1)"
   ]
  },
  {
   "cell_type": "code",
   "execution_count": null,
   "metadata": {
    "id": "UrCJyo0_McxE"
   },
   "outputs": [],
   "source": [
    "model2=OneVsRestClassifier(DT_model).fit(X_train_dtm,y_train_mlb)"
   ]
  },
  {
   "cell_type": "code",
   "execution_count": null,
   "metadata": {
    "id": "WPuG338PNLUH"
   },
   "outputs": [],
   "source": [
    "prediction = model2.predict(X_test_dtm)"
   ]
  },
  {
   "cell_type": "code",
   "execution_count": null,
   "metadata": {
    "colab": {
     "base_uri": "https://localhost:8080/"
    },
    "executionInfo": {
     "elapsed": 514,
     "status": "ok",
     "timestamp": 1625397644584,
     "user": {
      "displayName": "Ruchira S Dwivedi",
      "photoUrl": "",
      "userId": "08004570390284030604"
     },
     "user_tz": -330
    },
    "id": "r7K4113ONgd0",
    "outputId": "8bb1d366-5bc1-4d57-fad2-dd122c034051"
   },
   "outputs": [
    {
     "data": {
      "text/plain": [
       "0.1552"
      ]
     },
     "execution_count": 61,
     "metadata": {
      "tags": []
     },
     "output_type": "execute_result"
    }
   ],
   "source": [
    "accuracy_score(y_test_mlb,prediction)"
   ]
  },
  {
   "cell_type": "code",
   "execution_count": null,
   "metadata": {
    "colab": {
     "base_uri": "https://localhost:8080/"
    },
    "executionInfo": {
     "elapsed": 9,
     "status": "ok",
     "timestamp": 1625397647543,
     "user": {
      "displayName": "Ruchira S Dwivedi",
      "photoUrl": "",
      "userId": "08004570390284030604"
     },
     "user_tz": -330
    },
    "id": "R6EEx33yNhC-",
    "outputId": "8f6e565e-559c-4bdd-84a5-7ecc62ea96e9"
   },
   "outputs": [
    {
     "data": {
      "text/plain": [
       "(0.4953, 0.2839173110631841)"
      ]
     },
     "execution_count": 62,
     "metadata": {
      "tags": []
     },
     "output_type": "execute_result"
    }
   ],
   "source": [
    "recall_score(y_test_mlb,prediction,average='micro'),recall_score(y_test_mlb,prediction,average='macro')"
   ]
  },
  {
   "cell_type": "code",
   "execution_count": null,
   "metadata": {
    "colab": {
     "base_uri": "https://localhost:8080/"
    },
    "executionInfo": {
     "elapsed": 6,
     "status": "ok",
     "timestamp": 1625397651369,
     "user": {
      "displayName": "Ruchira S Dwivedi",
      "photoUrl": "",
      "userId": "08004570390284030604"
     },
     "user_tz": -330
    },
    "id": "riR17moSNhLu",
    "outputId": "ac85e094-4e24-4339-a708-4a557e08d6ef"
   },
   "outputs": [
    {
     "data": {
      "text/plain": [
       "(0.6067622197721426, 0.4295018131835531)"
      ]
     },
     "execution_count": 63,
     "metadata": {
      "tags": []
     },
     "output_type": "execute_result"
    }
   ],
   "source": [
    "precision_score(y_test_mlb,prediction,average='micro'),precision_score(y_test_mlb,prediction,average='macro')"
   ]
  },
  {
   "cell_type": "code",
   "execution_count": null,
   "metadata": {
    "colab": {
     "base_uri": "https://localhost:8080/"
    },
    "executionInfo": {
     "elapsed": 32,
     "status": "ok",
     "timestamp": 1625397654435,
     "user": {
      "displayName": "Ruchira S Dwivedi",
      "photoUrl": "",
      "userId": "08004570390284030604"
     },
     "user_tz": -330
    },
    "id": "UeYhAt1iNhRl",
    "outputId": "3975dcd6-9edd-47bc-f24f-0be8345e7b70"
   },
   "outputs": [
    {
     "data": {
      "text/plain": [
       "(0.5453944832902055, 0.335827368403793)"
      ]
     },
     "execution_count": 64,
     "metadata": {
      "tags": []
     },
     "output_type": "execute_result"
    }
   ],
   "source": [
    "f1_score(y_test_mlb,prediction,average='micro'),f1_score(y_test_mlb,prediction,average='macro')"
   ]
  },
  {
   "cell_type": "markdown",
   "metadata": {
    "id": "DOroQKmWQFKy"
   },
   "source": [
    "## **Tuning the model**"
   ]
  },
  {
   "cell_type": "code",
   "execution_count": 32,
   "metadata": {
    "executionInfo": {
     "elapsed": 348,
     "status": "ok",
     "timestamp": 1625406297913,
     "user": {
      "displayName": "Ruchira S Dwivedi",
      "photoUrl": "",
      "userId": "08004570390284030604"
     },
     "user_tz": -330
    },
    "id": "slqgac6zOs9K"
   },
   "outputs": [],
   "source": [
    "from sklearn.model_selection import GridSearchCV\n",
    "param_grid = {'max_depth':[1,2,3,4,5],\n",
    "              'min_samples_leaf':[1,2,3,4,5],\n",
    "              'min_samples_split':[1,2,3,4,5,6]}\n",
    "grid = GridSearchCV(DT_model, param_grid)\n"
   ]
  },
  {
   "cell_type": "code",
   "execution_count": 1,
   "metadata": {
    "executionInfo": {
     "elapsed": 344,
     "status": "ok",
     "timestamp": 1625411069027,
     "user": {
      "displayName": "Ruchira S Dwivedi",
      "photoUrl": "",
      "userId": "08004570390284030604"
     },
     "user_tz": -330
    },
    "id": "dyPEW6DMO2a4"
   },
   "outputs": [],
   "source": [
    "model3=OneVsRestClassifier(grid).fit(X_train_dtm,y_train_mlb)"
   ]
  },
  {
   "cell_type": "code",
   "execution_count": null,
   "metadata": {
    "colab": {
     "base_uri": "https://localhost:8080/"
    },
    "executionInfo": {
     "elapsed": 14,
     "status": "error",
     "timestamp": 1625399492396,
     "user": {
      "displayName": "Ruchira S Dwivedi",
      "photoUrl": "",
      "userId": "08004570390284030604"
     },
     "user_tz": -330
    },
    "id": "VVuCYqInQ6a9",
    "outputId": "95b923e0-5426-4696-abc7-36f50ff73096"
   },
   "outputs": [],
   "source": [
    "y_predict_Grid = model3.predict(X_test_dtm)"
   ]
  },
  {
   "cell_type": "code",
   "execution_count": null,
   "metadata": {
    "id": "hs83NFtwRLPq"
   },
   "outputs": [],
   "source": [
    "accuracy_score(y_test_mlb,y_predict_Grid)"
   ]
  },
  {
   "cell_type": "code",
   "execution_count": null,
   "metadata": {
    "id": "du_msirGRP52"
   },
   "outputs": [],
   "source": [
    "recall_score(y_test_mlb,prediction,average='micro'),recall_score(y_test_mlb,prediction,average='macro')"
   ]
  },
  {
   "cell_type": "code",
   "execution_count": null,
   "metadata": {
    "id": "dhSnlU7IRP_t"
   },
   "outputs": [],
   "source": [
    "precision_score(y_test_mlb,prediction,average='micro'),precision_score(y_test_mlb,prediction,average='macro')"
   ]
  },
  {
   "cell_type": "code",
   "execution_count": null,
   "metadata": {
    "id": "LSOJNYMARQG3"
   },
   "outputs": [],
   "source": [
    "f1_score(y_test_mlb,prediction,average='micro'),f1_score(y_test_mlb,prediction,average='macro')"
   ]
  },
  {
   "cell_type": "code",
   "execution_count": null,
   "metadata": {
    "id": "0G2N3PYFRfWl"
   },
   "outputs": [],
   "source": [
    "mlb.inverse_transform(prediction[0:5])"
   ]
  },
  {
   "cell_type": "code",
   "execution_count": null,
   "metadata": {
    "id": "fg5ZEl6eRffF"
   },
   "outputs": [],
   "source": [
    "y_test[0:5]"
   ]
  },
  {
   "cell_type": "markdown",
   "metadata": {
    "id": "hLQHj2Z-DMZL"
   },
   "source": [
    "Tuning this model could not be completed due to insufficient RAM, which was causing session to repeatedly crash."
   ]
  }
 ],
 "metadata": {
  "accelerator": "GPU",
  "colab": {
   "authorship_tag": "ABX9TyMhIptCIB+dVPeKHL6Em5K+",
   "collapsed_sections": [],
   "name": "Ruchira-NLP-Part1.ipynb",
   "provenance": []
  },
  "kernelspec": {
   "display_name": "Python 3",
   "language": "python",
   "name": "python3"
  },
  "language_info": {
   "codemirror_mode": {
    "name": "ipython",
    "version": 3
   },
   "file_extension": ".py",
   "mimetype": "text/x-python",
   "name": "python",
   "nbconvert_exporter": "python",
   "pygments_lexer": "ipython3",
   "version": "3.8.3"
  }
 },
 "nbformat": 4,
 "nbformat_minor": 1
}
